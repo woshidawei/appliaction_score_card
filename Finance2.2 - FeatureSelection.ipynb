{
 "cells": [
  {
   "cell_type": "markdown",
   "metadata": {
    "toc": true
   },
   "source": [
    "<h1>Table of Contents<span class=\"tocSkip\"></span></h1>\n",
    "<div class=\"toc\"><ul class=\"toc-item\"><li><span><a href=\"#特征选择-(判定贷款用户是否逾期)\" data-toc-modified-id=\"特征选择-(判定贷款用户是否逾期)-1\"><span class=\"toc-item-num\">1&nbsp;&nbsp;</span>特征选择 (判定贷款用户是否逾期)</a></span><ul class=\"toc-item\"><li><span><a href=\"#IV值进行特征选择\" data-toc-modified-id=\"IV值进行特征选择-1.1\"><span class=\"toc-item-num\">1.1&nbsp;&nbsp;</span>IV值进行特征选择</a></span></li><li><span><a href=\"#随机森林挑选特征\" data-toc-modified-id=\"随机森林挑选特征-1.2\"><span class=\"toc-item-num\">1.2&nbsp;&nbsp;</span>随机森林挑选特征</a></span><ul class=\"toc-item\"><li><span><a href=\"#平均不纯度减少-mean-decrease-impurity\" data-toc-modified-id=\"平均不纯度减少-mean-decrease-impurity-1.2.1\"><span class=\"toc-item-num\">1.2.1&nbsp;&nbsp;</span>平均不纯度减少 mean decrease impurity</a></span></li><li><span><a href=\"#平均精确率减少-Mean-decrease-accuracy\" data-toc-modified-id=\"平均精确率减少-Mean-decrease-accuracy-1.2.2\"><span class=\"toc-item-num\">1.2.2&nbsp;&nbsp;</span>平均精确率减少 Mean decrease accuracy</a></span></li></ul></li><li><span><a href=\"#综合挑选特征\" data-toc-modified-id=\"综合挑选特征-1.3\"><span class=\"toc-item-num\">1.3&nbsp;&nbsp;</span>综合挑选特征</a></span></li></ul></li><li><span><a href=\"#模型选择与模型评估\" data-toc-modified-id=\"模型选择与模型评估-2\"><span class=\"toc-item-num\">2&nbsp;&nbsp;</span>模型选择与模型评估</a></span></li><li><span><a href=\"#遇到的问题\" data-toc-modified-id=\"遇到的问题-3\"><span class=\"toc-item-num\">3&nbsp;&nbsp;</span>遇到的问题</a></span></li><li><span><a href=\"#Reference\" data-toc-modified-id=\"Reference-4\"><span class=\"toc-item-num\">4&nbsp;&nbsp;</span>Reference</a></span></li></ul></div>"
   ]
  },
  {
   "cell_type": "markdown",
   "metadata": {},
   "source": [
    "# 特征选择 (判定贷款用户是否逾期)"
   ]
  },
  {
   "cell_type": "markdown",
   "metadata": {},
   "source": [
    "给定金融数据，预测贷款用户是否会逾期。\n",
    "（status是标签：0表示未逾期，1表示逾期。）\n",
    "\n",
    "**Task8（特征工程2 - 特征选择）** - 分别用IV值和随机森林挑选特征，再构建模型，进行模型评估"
   ]
  },
  {
   "cell_type": "code",
   "execution_count": 1,
   "metadata": {
    "collapsed": true
   },
   "outputs": [],
   "source": [
    "import pickle\n",
    "import pandas as pd\n",
    "from sklearn.model_selection import train_test_split\n",
    "\n",
    "# 导入数据\n",
    "data = pd.read_csv('data.csv')\n",
    "data.drop_duplicates(inplace=True)\n",
    "\n",
    "# 载入特征\n",
    "with open('feature.pkl', 'rb') as f:\n",
    "    X = pickle.load(f)\n",
    "\n",
    "# 提取标签\n",
    "y = data.status\n",
    "\n",
    "# 划分训练集测试集\n",
    "X_train, X_test, y_train, y_test = train_test_split(X, y, test_size=0.3,random_state=2333)"
   ]
  },
  {
   "cell_type": "code",
   "execution_count": 2,
   "metadata": {
    "collapsed": true
   },
   "outputs": [],
   "source": [
    "# 性能评估\n",
    "from sklearn.metrics import accuracy_score, roc_auc_score\n",
    "\n",
    "def model_metrics(clf, X_train, X_test, y_train, y_test):\n",
    "    # 预测\n",
    "    y_train_pred = clf.predict(X_train)\n",
    "    y_test_pred = clf.predict(X_test)\n",
    "    \n",
    "    y_train_proba = clf.predict_proba(X_train)[:,1]\n",
    "    y_test_proba = clf.predict_proba(X_test)[:,1]\n",
    "    \n",
    "    # 准确率\n",
    "    print('[准确率]', end = ' ')\n",
    "    print('训练集：', '%.4f'%accuracy_score(y_train, y_train_pred), end = ' ')\n",
    "    print('测试集：', '%.4f'%accuracy_score(y_test, y_test_pred))\n",
    "    \n",
    "    # auc取值：用roc_auc_score或auc\n",
    "    print('[auc值]', end = ' ')\n",
    "    print('训练集：', '%.4f'%roc_auc_score(y_train, y_train_proba), end = ' ')\n",
    "    print('测试集：', '%.4f'%roc_auc_score(y_test, y_test_proba))"
   ]
  },
  {
   "cell_type": "markdown",
   "metadata": {},
   "source": [
    "## IV值进行特征选择"
   ]
  },
  {
   "cell_type": "markdown",
   "metadata": {
    "collapsed": true
   },
   "source": [
    "stats.scoreatpercentile(x, 50)    # 得到x在50%处的数值\n",
    "\n",
    "np.in1d(B,A)    # 在序列B中寻找与序列A相同的值，并返回一逻辑值（True,False）"
   ]
  },
  {
   "cell_type": "code",
   "execution_count": 3,
   "metadata": {
    "collapsed": true
   },
   "outputs": [],
   "source": [
    "import math\n",
    "import numpy as np\n",
    "from scipy import stats\n",
    "from sklearn.utils.multiclass import type_of_target\n",
    "\n",
    "def woe(X, y, event=1):  \n",
    "    res_woe = []\n",
    "    iv_dict = {}\n",
    "    for feature in X.columns:\n",
    "        x = X[feature].values\n",
    "        # 1) 连续特征离散化\n",
    "        if type_of_target(x) == 'continuous':\n",
    "            x = discrete(x)\n",
    "        # 2) 计算该特征的woe和iv\n",
    "        # woe_dict, iv = woe_single_x(x, y, feature, event)\n",
    "        woe_dict, iv = woe_single_x(x, y, feature, event)\n",
    "        iv_dict[feature] = iv\n",
    "        res_woe.append(woe_dict) \n",
    "        \n",
    "    return iv_dict\n",
    "        \n",
    "def discrete(x):\n",
    "    # 使用5等分离散化特征\n",
    "    res = np.zeros(x.shape)\n",
    "    for i in range(5):\n",
    "        point1 = stats.scoreatpercentile(x, i * 20)\n",
    "        point2 = stats.scoreatpercentile(x, (i + 1) * 20)\n",
    "        x1 = x[np.where((x >= point1) & (x <= point2))]\n",
    "        mask = np.in1d(x, x1)\n",
    "        res[mask] = i + 1    # 将[i, i+1]块内的值标记成i+1\n",
    "    return res\n",
    "\n",
    "def woe_single_x(x, y, feature,event = 1):\n",
    "    # event代表预测正例的标签\n",
    "    event_total = sum(y == event)\n",
    "    non_event_total = y.shape[-1] - event_total\n",
    "    \n",
    "    iv = 0\n",
    "    woe_dict = {}\n",
    "    for x1 in set(x):    # 遍历各个块\n",
    "        y1 = y.reindex(np.where(x == x1)[0])\n",
    "        event_count = sum(y1 == event)\n",
    "        non_event_count = y1.shape[-1] - event_count\n",
    "        rate_event = event_count / event_total    \n",
    "        rate_non_event = non_event_count / non_event_total\n",
    "        \n",
    "        if rate_event == 0:\n",
    "            rate_event = 0.0001\n",
    "            # woei = -20\n",
    "        elif rate_non_event == 0:\n",
    "            rate_non_event = 0.0001\n",
    "            # woei = 20\n",
    "        woei = math.log(rate_event / rate_non_event)\n",
    "        woe_dict[x1] = woei\n",
    "        iv += (rate_event - rate_non_event) * woei\n",
    "    return woe_dict, iv"
   ]
  },
  {
   "cell_type": "markdown",
   "metadata": {},
   "source": [
    "处理上述特征时, 遇到了IV的极端情况, 响应数为0或未响应数为0。\n",
    "\n",
    "为简单起见, 我们在代码中对极端值进行平滑处理。"
   ]
  },
  {
   "cell_type": "code",
   "execution_count": 4,
   "metadata": {
    "collapsed": true
   },
   "outputs": [],
   "source": [
    "import warnings\n",
    "warnings.filterwarnings(\"ignore\")\n",
    "\n",
    "iv_dict = woe(X_train, y_train)"
   ]
  },
  {
   "cell_type": "code",
   "execution_count": 5,
   "metadata": {
    "scrolled": true
   },
   "outputs": [
    {
     "data": {
      "text/plain": [
       "[('historical_trans_amount', 2.6975301004625365),\n",
       " ('trans_amount_3_month', 2.5633548887586746),\n",
       " ('pawns_auctions_trusts_consume_last_6_month', 2.343990314630991),\n",
       " ('repayment_capability', 2.31685232254565),\n",
       " ('first_transaction_day', 2.10946672748192),\n",
       " ('abs', 2.048054369415617),\n",
       " ('consfin_avg_limit', 1.8005797778063934),\n",
       " ('consume_mini_time_last_1_month', 1.4570522032774857),\n",
       " ('loans_avg_limit', 1.3508993179510962),\n",
       " ('max_cumulative_consume_later_1_month', 1.2961861663340406),\n",
       " ('historical_trans_day', 1.0794587869439352),\n",
       " ('pawns_auctions_trusts_consume_last_1_month', 0.9637730486540506),\n",
       " ('consfin_credit_limit', 0.829726960824839),\n",
       " ('loans_score', 0.8035125155540374),\n",
       " ('loans_latest_day', 0.7177168342745962),\n",
       " ('avg_price_last_12_month', 0.6395438326722515),\n",
       " ('history_suc_fee', 0.6322293100618446),\n",
       " ('apply_score', 0.5592084043426475),\n",
       " ('latest_query_day', 0.5017485264222311),\n",
       " ('consfin_max_limit', 0.483273473979316),\n",
       " ('loans_long_time', 0.4592776814323623),\n",
       " ('take_amount_in_later_12_month_highest', 0.44551742754223506),\n",
       " ('loans_settle_count', 0.4411031020652967),\n",
       " ('history_fail_fee', 0.42562735786381),\n",
       " ('loans_count', 0.4001622824946951),\n",
       " ('trans_days_interval_filter', 0.3985310761632303),\n",
       " ('loans_max_limit', 0.37263143500206936),\n",
       " ('consume_top_time_last_6_month', 0.349022605284868),\n",
       " ('trans_top_time_last_6_month', 0.34814710882405003),\n",
       " ('number_of_trans_from_2011', 0.3424276547627279),\n",
       " ('latest_six_month_loan', 0.33895099903184556),\n",
       " ('trans_days_interval', 0.33857176437512965),\n",
       " ('trans_day_last_12_month', 0.33503487199625653),\n",
       " ('latest_six_month_apply', 0.3167512025877789),\n",
       " ('loans_credit_limit', 0.30559284801552467),\n",
       " ('apply_credibility', 0.29830373382617764),\n",
       " ('loans_org_count_behavior', 0.29367166639534587),\n",
       " ('query_sum_count', 0.2913852759631131),\n",
       " ('query_org_count', 0.284857522455637),\n",
       " ('transd_mcc', 0.2800425079015167),\n",
       " ('latest_three_month_apply', 0.2774919546093642),\n",
       " ('latest_one_month_fail', 0.2774414710765742),\n",
       " ('latest_one_month_apply', 0.2764096502289849),\n",
       " ('loans_cash_count', 0.26643055859379),\n",
       " ('loans_org_count_current', 0.26643055859379),\n",
       " ('consume_top_time_last_1_month', 0.26099550987334463),\n",
       " ('trans_top_time_last_1_month', 0.2609160030161336),\n",
       " ('max_consume_count_later_6_month', 0.25742951507849315),\n",
       " ('trans_fail_top_count_enum_last_12_month', 0.25348533997989),\n",
       " ('loans_product_count', 0.24963018741221274),\n",
       " ('query_finance_count', 0.24719289152922377),\n",
       " ('latest_one_month_suc', 0.24568078054601297),\n",
       " ('latest_three_month_loan', 0.24538973397713515),\n",
       " ('loans_credibility_limit', 0.24334672976386584),\n",
       " ('consfin_credibility', 0.23774476750037496),\n",
       " ('query_cash_count', 0.23553151956888524),\n",
       " ('loans_credibility_behavior', 0.23537823783293418),\n",
       " ('loans_latest_time_month', 0.23536009610676906),\n",
       " ('loans_overdue_count', 0.23419785770655852),\n",
       " ('trans_fail_top_count_enum_last_6_month', 0.23290439952486663),\n",
       " ('cross_consume_count_last_1_month', 0.23101341148565974),\n",
       " ('consfin_product_count', 0.2299132438170062),\n",
       " ('trans_fail_top_count_enum_last_1_month', 0.2292932379880621),\n",
       " ('latest_query_time_weekday', 0.22341492175897784),\n",
       " ('latest_query_time_month', 0.22281703262580477),\n",
       " ('avg_consume_less_12_valid_month', 0.22239702810015521),\n",
       " ('first_transaction_time_weekday', 0.22040179517292707),\n",
       " ('consfin_org_count_behavior', 0.22010497210894556),\n",
       " ('consfin_org_count_current', 0.22010497210894556),\n",
       " ('jewelry_consume_count_last_6_month', 0.21790403970323896),\n",
       " ('reg_preference_for_trad', 0.2177870321526657),\n",
       " ('first_transaction_time_month', 0.21771183020755758),\n",
       " ('loans_latest_time_weekday', 0.21550477980307856),\n",
       " ('trans_amount_increase_rate_lately', 0.20702655677398674),\n",
       " ('latest_one_month_loan', 0.20660231377938928),\n",
       " ('regional_mobility', 0.20654433409120623),\n",
       " ('first_transaction_time_year', 0.2046103090844746),\n",
       " ('trans_activity_day', 0.2027036558499224),\n",
       " ('trans_activity_month', 0.20061987700620626),\n",
       " ('railway_consume_count_last_12_month', 0.2003683041664725),\n",
       " ('loans_latest_time_year', 0.19963733017168203),\n",
       " ('middle_volume_percent', 0.1987889286921986),\n",
       " ('top_trans_count_last_1_month', 0.1982985665309038),\n",
       " ('latest_query_time_year', 0.19785800765281902),\n",
       " ('student_feature', 0.1973961955679536),\n",
       " ('rank_trad_1_month', 0.19690523890879305),\n",
       " ('is_high_user', 0.19615128275454694)]"
      ]
     },
     "execution_count": 5,
     "metadata": {},
     "output_type": "execute_result"
    }
   ],
   "source": [
    "iv = sorted(iv_dict.items(), key = lambda x:x[1],reverse = True)\n",
    "iv"
   ]
  },
  {
   "cell_type": "markdown",
   "metadata": {},
   "source": [
    "## 随机森林挑选特征"
   ]
  },
  {
   "cell_type": "code",
   "execution_count": 6,
   "metadata": {
    "collapsed": true
   },
   "outputs": [],
   "source": [
    "import warnings\n",
    "warnings.filterwarnings(\"ignore\")\n",
    "from sklearn.model_selection import GridSearchCV\n",
    "from sklearn.ensemble import RandomForestClassifier"
   ]
  },
  {
   "cell_type": "code",
   "execution_count": 7,
   "metadata": {},
   "outputs": [
    {
     "name": "stdout",
     "output_type": "stream",
     "text": [
      "袋外分数： 0.7342951608055305\n",
      "[准确率] 训练集： 0.9805 测试集： 0.7744\n",
      "[auc值] 训练集： 0.9996 测试集： 0.7289\n"
     ]
    }
   ],
   "source": [
    "# 观察默认参数的性能\n",
    "rf0 = RandomForestClassifier(oob_score=True, random_state=2333)\n",
    "rf0.fit(X_train, y_train)\n",
    "print('袋外分数：', rf0.oob_score_)\n",
    "model_metrics(rf0, X_train, X_test, y_train, y_test)"
   ]
  },
  {
   "cell_type": "code",
   "execution_count": null,
   "metadata": {
    "collapsed": true
   },
   "outputs": [],
   "source": [
    "# 网格法调参, 步骤省略...\n",
    "param_test = {'n_estimators':range(20,200,20)}\n",
    "# param_test = {'max_depth':range(3,14,2), 'min_samples_split':range(50,201,20)}\n",
    "# param_test = {'min_samples_split':range(10,100,20), 'min_samples_leaf':range(10,60,10)}\n",
    "# param_test = {'max_features':range(3,17,2)}\n",
    "gsearch = GridSearchCV(estimator = RandomForestClassifier(n_estimators=120, max_depth=9, min_samples_split=50, \n",
    "                                                          min_samples_leaf=20, max_features = 9,random_state=2333), \n",
    "                       param_grid = param_test, scoring='roc_auc', cv=5)\n",
    "\n",
    "gsearch.fit(X_train, y_train)\n",
    "# gsearch.grid_scores_, \n",
    "gsearch.best_params_, gsearch.best_score_"
   ]
  },
  {
   "cell_type": "code",
   "execution_count": 9,
   "metadata": {},
   "outputs": [
    {
     "name": "stdout",
     "output_type": "stream",
     "text": [
      "袋外分数： 0.7844905320108205\n",
      "[准确率] 训练集： 0.8115 测试集： 0.7954\n",
      "[auc值] 训练集： 0.8946 测试集： 0.7914\n"
     ]
    }
   ],
   "source": [
    "rf = RandomForestClassifier(n_estimators=120, max_depth=9, min_samples_split=50,\n",
    "                            min_samples_leaf=20, max_features = 9,oob_score=True, random_state=2333)\n",
    "rf.fit(X_train, y_train)\n",
    "print('袋外分数：', rf.oob_score_)\n",
    "model_metrics(rf, X_train, X_test, y_train, y_test)"
   ]
  },
  {
   "cell_type": "markdown",
   "metadata": {
    "collapsed": true
   },
   "source": [
    "### 平均不纯度减少 mean decrease impurity\n",
    "\n",
    "> 下面代码是基于Gini指数"
   ]
  },
  {
   "cell_type": "code",
   "execution_count": 10,
   "metadata": {
    "collapsed": true
   },
   "outputs": [],
   "source": [
    "rf.fit(X_train, y_train)\n",
    "feature_impotance1 = sorted(zip(map(lambda x: '%.4f'%x, rf.feature_importances_), list(X_train.columns)), reverse=True)"
   ]
  },
  {
   "cell_type": "code",
   "execution_count": 11,
   "metadata": {},
   "outputs": [
    {
     "data": {
      "text/plain": [
       "[('0.1333', 'trans_fail_top_count_enum_last_1_month'),\n",
       " ('0.0818', 'loans_score'),\n",
       " ('0.0784', 'history_fail_fee'),\n",
       " ('0.0623', 'apply_score'),\n",
       " ('0.0580', 'latest_one_month_fail'),\n",
       " ('0.0424', 'loans_overdue_count'),\n",
       " ('0.0307', 'trans_fail_top_count_enum_last_12_month'),\n",
       " ('0.0237', 'trans_fail_top_count_enum_last_6_month'),\n",
       " ('0.0194', 'trans_day_last_12_month'),\n",
       " ('0.0184', 'max_cumulative_consume_later_1_month')]"
      ]
     },
     "execution_count": 11,
     "metadata": {},
     "output_type": "execute_result"
    }
   ],
   "source": [
    "feature_impotance1[:10]"
   ]
  },
  {
   "cell_type": "markdown",
   "metadata": {},
   "source": [
    "### 平均精确率减少 Mean decrease accuracy"
   ]
  },
  {
   "cell_type": "code",
   "execution_count": 12,
   "metadata": {
    "collapsed": true
   },
   "outputs": [],
   "source": [
    "import numpy as np\n",
    "from collections import defaultdict\n",
    "from sklearn.model_selection import cross_val_score, ShuffleSplit\n",
    "\n",
    "scores = defaultdict(list)\n",
    "rs = ShuffleSplit(n_splits=5, test_size=0.3, random_state=0)\n",
    "for train_idx, test_idx in rs.split(X_train):\n",
    "    x_train, x_test = X_train.values[train_idx], X_train.values[test_idx]\n",
    "    Y_train, Y_test = y_train.values[train_idx], y_train.values[test_idx]\n",
    "    r = rf.fit(x_train, Y_train)\n",
    "    acc = accuracy_score(Y_test, rf.predict(x_test))\n",
    "    for i in range(x_train.shape[1]):\n",
    "        X_t = x_test.copy()\n",
    "        np.random.shuffle(X_t[:, i])\n",
    "        shuff_acc = accuracy_score(Y_test, rf.predict(X_t))\n",
    "        scores[X_train.columns[i]].append((acc - shuff_acc) / acc)\n",
    "        \n",
    "feature_impotance2=sorted([('%.4f'%np.mean(score), feat) for feat, score in scores.items()], reverse=True)"
   ]
  },
  {
   "cell_type": "code",
   "execution_count": 13,
   "metadata": {},
   "outputs": [
    {
     "data": {
      "text/plain": [
       "[('0.0163', 'history_fail_fee'),\n",
       " ('0.0153', 'trans_fail_top_count_enum_last_1_month'),\n",
       " ('0.0120', 'loans_score'),\n",
       " ('0.0097', 'latest_one_month_fail'),\n",
       " ('0.0097', 'apply_score'),\n",
       " ('0.0062', 'loans_overdue_count'),\n",
       " ('0.0046', 'trans_fail_top_count_enum_last_12_month'),\n",
       " ('0.0041', 'trans_fail_top_count_enum_last_6_month'),\n",
       " ('0.0036', 'latest_one_month_suc'),\n",
       " ('0.0025', 'avg_price_last_12_month')]"
      ]
     },
     "execution_count": 13,
     "metadata": {},
     "output_type": "execute_result"
    }
   ],
   "source": [
    "feature_impotance2[:10]"
   ]
  },
  {
   "cell_type": "markdown",
   "metadata": {},
   "source": [
    "## 综合挑选特征"
   ]
  },
  {
   "cell_type": "code",
   "execution_count": 15,
   "metadata": {},
   "outputs": [
    {
     "data": {
      "text/plain": [
       "(('0.0051', 'consfin_product_count'), ('0.0003', 'loans_avg_limit'))"
      ]
     },
     "execution_count": 15,
     "metadata": {},
     "output_type": "execute_result"
    }
   ],
   "source": [
    "feature_impotance1[50], feature_impotance2[40]"
   ]
  },
  {
   "cell_type": "code",
   "execution_count": 16,
   "metadata": {
    "scrolled": true
   },
   "outputs": [
    {
     "name": "stdout",
     "output_type": "stream",
     "text": [
      "regional_mobility 0.20654433409120623\n",
      "is_high_user 0.19615128275454694\n",
      "avg_consume_less_12_valid_month 0.22239702810015521\n",
      "reg_preference_for_trad 0.2177870321526657\n",
      "first_transaction_time_month 0.21771183020755758\n",
      "first_transaction_time_weekday 0.22040179517292707\n",
      "latest_query_time_year 0.19785800765281902\n",
      "latest_query_time_month 0.22281703262580477\n",
      "latest_query_time_weekday 0.22341492175897784\n",
      "loans_latest_time_year 0.19963733017168203\n",
      "loans_latest_time_month 0.23536009610676906\n",
      "loans_latest_time_weekday 0.21550477980307856\n",
      "transd_mcc 0.2800425079015167\n",
      "consume_top_time_last_6_month 0.349022605284868\n",
      "max_consume_count_later_6_month 0.25742951507849315\n",
      "railway_consume_count_last_12_month 0.2003683041664725\n",
      "jewelry_consume_count_last_6_month 0.21790403970323896\n",
      "query_org_count 0.284857522455637\n",
      "query_finance_count 0.24719289152922377\n",
      "query_cash_count 0.23553151956888524\n",
      "query_sum_count 0.2913852759631131\n",
      "latest_one_month_apply 0.2764096502289849\n",
      "latest_six_month_apply 0.3167512025877789\n",
      "loans_credibility_behavior 0.23537823783293418\n",
      "consfin_org_count_behavior 0.22010497210894556\n",
      "loans_cash_count 0.26643055859379\n",
      "latest_one_month_loan 0.20660231377938928\n",
      "loans_credit_limit 0.30559284801552467\n",
      "loans_credibility_limit 0.24334672976386584\n",
      "loans_org_count_current 0.26643055859379\n",
      "loans_product_count 0.24963018741221274\n",
      "consfin_org_count_current 0.22010497210894556\n",
      "consfin_product_count 0.2299132438170062\n"
     ]
    }
   ],
   "source": [
    "useless = []\n",
    "for feature in X_train.columns:\n",
    "    if feature in [t[1] for t in feature_impotance1[50:]] and feature in [t[1] for t in feature_impotance2[40:]]:\n",
    "        useless.append(feature)\n",
    "        print(feature, iv_dict[feature])"
   ]
  },
  {
   "cell_type": "code",
   "execution_count": 17,
   "metadata": {},
   "outputs": [
    {
     "data": {
      "text/plain": [
       "33"
      ]
     },
     "execution_count": 17,
     "metadata": {},
     "output_type": "execute_result"
    }
   ],
   "source": [
    "len(useless)"
   ]
  },
  {
   "cell_type": "code",
   "execution_count": 18,
   "metadata": {
    "collapsed": true
   },
   "outputs": [],
   "source": [
    "X_train.drop(useless, axis = 1, inplace = True)\n",
    "X_test.drop(useless, axis = 1, inplace = True)"
   ]
  },
  {
   "cell_type": "code",
   "execution_count": 19,
   "metadata": {},
   "outputs": [
    {
     "name": "stdout",
     "output_type": "stream",
     "text": [
      "袋外分数： 0.789600240456868\n",
      "[准确率] 训练集： 0.8197 测试集： 0.7954\n",
      "[auc值] 训练集： 0.8929 测试集： 0.7913\n"
     ]
    }
   ],
   "source": [
    "rf = RandomForestClassifier(n_estimators=120, max_depth=9, min_samples_split=50,\n",
    "                            min_samples_leaf=20, max_features = 9,oob_score=True, random_state=2333)\n",
    "rf.fit(X_train, y_train)\n",
    "print('袋外分数：', rf.oob_score_)\n",
    "model_metrics(rf, X_train, X_test, y_train, y_test)"
   ]
  },
  {
   "cell_type": "markdown",
   "metadata": {},
   "source": [
    "# 模型选择与模型评估\n",
    "\n",
    "调参过程略, 参见\"Finance3 - ModelAdjustPara.ipynb\""
   ]
  },
  {
   "cell_type": "code",
   "execution_count": 20,
   "metadata": {
    "collapsed": true
   },
   "outputs": [],
   "source": [
    "from sklearn.preprocessing import StandardScaler\n",
    "\n",
    "# 特征归一化\n",
    "std = StandardScaler()\n",
    "X_train = std.fit_transform(X_train.values)\n",
    "X_test = std.transform(X_test.values)"
   ]
  },
  {
   "cell_type": "code",
   "execution_count": 21,
   "metadata": {
    "collapsed": true
   },
   "outputs": [],
   "source": [
    "from sklearn.linear_model import LogisticRegression\n",
    "from sklearn import svm\n",
    "from sklearn.tree import DecisionTreeClassifier\n",
    "from xgboost.sklearn import XGBClassifier\n",
    "from lightgbm.sklearn import LGBMClassifier\n",
    "from mlxtend.classifier import StackingClassifier"
   ]
  },
  {
   "cell_type": "code",
   "execution_count": 105,
   "metadata": {
    "collapsed": true
   },
   "outputs": [],
   "source": [
    "lr = LogisticRegression(C = 0.1, penalty = 'l1')\n",
    "svm_linear = svm.SVC(C = 0.01, kernel = 'linear', probability=True)\n",
    "svm_poly =  svm.SVC(C = 0.01, kernel = 'poly', probability=True)\n",
    "svm_rbf =  svm.SVC(gamma = 0.01, C =0.01 , probability=True)\n",
    "svm_sigmoid =  svm.SVC(C = 0.01, kernel = 'sigmoid',probability=True)\n",
    "dt = DecisionTreeClassifier(max_depth=5,min_samples_split=50,min_samples_leaf=60, max_features=9, random_state =2333)\n",
    "xgb = XGBClassifier(learning_rate =0.1, n_estimators=80, max_depth=3, min_child_weight=5, \n",
    "                    gamma=0.2, subsample=0.8, colsample_bytree=0.8, reg_alpha=1e-5, \n",
    "                    objective= 'binary:logistic', nthread=4,scale_pos_weight=1, seed=27)\n",
    "lgb = LGBMClassifier(learning_rate =0.1, n_estimators=100, max_depth=3, min_child_weight=11, \n",
    "                    gamma=0.1, subsample=0.5, colsample_bytree=0.9, reg_alpha=1e-5, \n",
    "                    nthread=4,scale_pos_weight=1, seed=27)"
   ]
  },
  {
   "cell_type": "code",
   "execution_count": 106,
   "metadata": {
    "collapsed": true
   },
   "outputs": [],
   "source": [
    "sclf = StackingClassifier(classifiers=[svm_linear, svm_poly, svm_rbf, svm_sigmoid, dt, xgb, lgb], \n",
    "                            meta_classifier=lr, use_probas=True,average_probas=False)"
   ]
  },
  {
   "cell_type": "code",
   "execution_count": 107,
   "metadata": {},
   "outputs": [
    {
     "name": "stdout",
     "output_type": "stream",
     "text": [
      "[准确率] 训练集： 0.8563 测试集： 0.8017\n",
      "[auc值] 训练集： 0.9061 测试集： 0.7875\n"
     ]
    }
   ],
   "source": [
    "sclf.fit(X_train, y_train.values)\n",
    "model_metrics(sclf, X_train, X_test, y_train, y_test)"
   ]
  },
  {
   "cell_type": "markdown",
   "metadata": {},
   "source": [
    "# 遇到的问题"
   ]
  },
  {
   "cell_type": "markdown",
   "metadata": {},
   "source": [
    ">1）求IV值遇到极端值时怎么处理?\n",
    "将WOE标记为0/无穷或平滑处理，对IV值有较大大影响。已经无法从0.2—0.5的取值来删除特征了（除了可疑预测，其余都在0.2—0.5之间）。\n",
    "\n",
    ">2）虽然已经求得IV值或feature_importance，但不知道是不是取值不合常规就一定要删除该特征。\n",
    ">若一个特征一个特征删除后对比性能，进行验证的话，还要重新调参（很麻烦...）"
   ]
  },
  {
   "cell_type": "markdown",
   "metadata": {},
   "source": [
    "# Reference"
   ]
  },
  {
   "cell_type": "markdown",
   "metadata": {},
   "source": [
    "1）[结合Scikit-learn介绍几种常用的特征选择方法](https://blog.csdn.net/Bryan__/article/details/51607215)\n",
    "\n",
    "2）[IV值的计算及使用](https://www.jianshu.com/p/cc4724a373f8)\n",
    "\n",
    "3）[Information Value (IV) and Weight of Evidence (WOE) – A Case Study from Banking (Part 4)](http://ucanalytics.com/blogs/information-value-and-weight-of-evidencebanking-case/)\n",
    "\n",
    "4）[计算IV值的代码](https://github.com/patrick201/information_value/blob/master/src/information_value.py)\n",
    "\n",
    "5）[详细 - 数据挖掘模型中的IV和WOE详解](https://blog.csdn.net/kevin7658/article/details/50780391)"
   ]
  }
 ],
 "metadata": {
  "kernelspec": {
   "display_name": "Python 3",
   "language": "python",
   "name": "python3"
  },
  "language_info": {
   "codemirror_mode": {
    "name": "ipython",
    "version": 3
   },
   "file_extension": ".py",
   "mimetype": "text/x-python",
   "name": "python",
   "nbconvert_exporter": "python",
   "pygments_lexer": "ipython3",
   "version": "3.7.1"
  },
  "toc": {
   "nav_menu": {},
   "number_sections": true,
   "sideBar": true,
   "skip_h1_title": false,
   "title_cell": "Table of Contents",
   "title_sidebar": "Contents",
   "toc_cell": true,
   "toc_position": {},
   "toc_section_display": true,
   "toc_window_display": false
  }
 },
 "nbformat": 4,
 "nbformat_minor": 2
}
