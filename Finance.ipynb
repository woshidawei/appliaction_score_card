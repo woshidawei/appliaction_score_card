{
 "cells": [
  {
   "cell_type": "markdown",
   "metadata": {
    "toc": true
   },
   "source": [
    "<h1>Table of Contents<span class=\"tocSkip\"></span></h1>\n",
    "<div class=\"toc\"><ul class=\"toc-item\"><li><span><a href=\"#判定贷款用户是否逾期\" data-toc-modified-id=\"判定贷款用户是否逾期-1\"><span class=\"toc-item-num\">1&nbsp;&nbsp;</span>判定贷款用户是否逾期</a></span><ul class=\"toc-item\"><li><span><a href=\"#数据集预览\" data-toc-modified-id=\"数据集预览-1.1\"><span class=\"toc-item-num\">1.1&nbsp;&nbsp;</span>数据集预览</a></span></li><li><span><a href=\"#数据预处理\" data-toc-modified-id=\"数据预处理-1.2\"><span class=\"toc-item-num\">1.2&nbsp;&nbsp;</span>数据预处理</a></span><ul class=\"toc-item\"><li><span><a href=\"#删除无用特征\" data-toc-modified-id=\"删除无用特征-1.2.1\"><span class=\"toc-item-num\">1.2.1&nbsp;&nbsp;</span>删除无用特征</a></span></li><li><span><a href=\"#字符型特征-编码\" data-toc-modified-id=\"字符型特征-编码-1.2.2\"><span class=\"toc-item-num\">1.2.2&nbsp;&nbsp;</span>字符型特征-编码</a></span></li><li><span><a href=\"#缺失值处理\" data-toc-modified-id=\"缺失值处理-1.2.3\"><span class=\"toc-item-num\">1.2.3&nbsp;&nbsp;</span>缺失值处理</a></span></li></ul></li><li><span><a href=\"#特征工程\" data-toc-modified-id=\"特征工程-1.3\"><span class=\"toc-item-num\">1.3&nbsp;&nbsp;</span>特征工程</a></span></li><li><span><a href=\"#模型选择\" data-toc-modified-id=\"模型选择-1.4\"><span class=\"toc-item-num\">1.4&nbsp;&nbsp;</span>模型选择</a></span><ul class=\"toc-item\"><li><span><a href=\"#数据集划分\" data-toc-modified-id=\"数据集划分-1.4.1\"><span class=\"toc-item-num\">1.4.1&nbsp;&nbsp;</span>数据集划分</a></span></li><li><span><a href=\"#LR模型\" data-toc-modified-id=\"LR模型-1.4.2\"><span class=\"toc-item-num\">1.4.2&nbsp;&nbsp;</span>LR模型</a></span></li><li><span><a href=\"#SVM模型\" data-toc-modified-id=\"SVM模型-1.4.3\"><span class=\"toc-item-num\">1.4.3&nbsp;&nbsp;</span>SVM模型</a></span></li><li><span><a href=\"#决策树模型\" data-toc-modified-id=\"决策树模型-1.4.4\"><span class=\"toc-item-num\">1.4.4&nbsp;&nbsp;</span>决策树模型</a></span></li><li><span><a href=\"#XGBoost模型\" data-toc-modified-id=\"XGBoost模型-1.4.5\"><span class=\"toc-item-num\">1.4.5&nbsp;&nbsp;</span>XGBoost模型</a></span></li><li><span><a href=\"#LightGBM模型\" data-toc-modified-id=\"LightGBM模型-1.4.6\"><span class=\"toc-item-num\">1.4.6&nbsp;&nbsp;</span>LightGBM模型</a></span></li></ul></li><li><span><a href=\"#模型调参\" data-toc-modified-id=\"模型调参-1.5\"><span class=\"toc-item-num\">1.5&nbsp;&nbsp;</span>模型调参</a></span></li><li><span><a href=\"#模型评估\" data-toc-modified-id=\"模型评估-1.6\"><span class=\"toc-item-num\">1.6&nbsp;&nbsp;</span>模型评估</a></span></li></ul></li><li><span><a href=\"#遇到的问题\" data-toc-modified-id=\"遇到的问题-2\"><span class=\"toc-item-num\">2&nbsp;&nbsp;</span>遇到的问题</a></span></li><li><span><a href=\"#Reference\" data-toc-modified-id=\"Reference-3\"><span class=\"toc-item-num\">3&nbsp;&nbsp;</span>Reference</a></span></li></ul></div>"
   ]
  },
  {
   "cell_type": "markdown",
   "metadata": {},
   "source": [
    "# 判定贷款用户是否逾期"
   ]
  },
  {
   "cell_type": "markdown",
   "metadata": {},
   "source": [
    "给定金融数据，预测贷款用户是否会逾期。\n",
    "（status是标签：0表示未逾期，1表示逾期。）\n",
    "\n",
    "**Task1** - 构建逻辑回归模型进行预测（在构建部分数据需要进行缺失值处理和数据类型转换，如果不能处理，可以直接暴力删除）\n",
    "\n",
    "**Task2** - 构建SVM和决策树模型进行预测\n",
    "\n",
    "**Task3** - 构建xgboost和lightgbm模型进行预测\n",
    "\n",
    "**Task4（模型评估）** - 记录五个模型关于accuracy、precision和recall、f1-score、auc的评分表格，画出roc曲线\n",
    "\n",
    "**Task5（数据探索）** - 数据类型转换以及缺失值处理（尝试不同的填充看效果）以及你能借鉴的数据探索"
   ]
  },
  {
   "cell_type": "markdown",
   "metadata": {},
   "source": [
    "## 数据集预览"
   ]
  },
  {
   "cell_type": "code",
   "execution_count": 42,
   "metadata": {
    "collapsed": true
   },
   "outputs": [
    {
     "name": "stdout",
     "output_type": "stream",
     "text": [
      "(4754, 89)\n"
     ]
    },
    {
     "data": {
      "text/html": [
       "<div>\n",
       "<style scoped>\n",
       "    .dataframe tbody tr th:only-of-type {\n",
       "        vertical-align: middle;\n",
       "    }\n",
       "\n",
       "    .dataframe tbody tr th {\n",
       "        vertical-align: top;\n",
       "    }\n",
       "\n",
       "    .dataframe thead th {\n",
       "        text-align: right;\n",
       "    }\n",
       "</style>\n",
       "<table border=\"1\" class=\"dataframe\">\n",
       "  <thead>\n",
       "    <tr style=\"text-align: right;\">\n",
       "      <th></th>\n",
       "      <th>custid</th>\n",
       "      <th>trade_no</th>\n",
       "      <th>bank_card_no</th>\n",
       "      <th>low_volume_percent</th>\n",
       "      <th>middle_volume_percent</th>\n",
       "      <th>take_amount_in_later_12_month_highest</th>\n",
       "      <th>trans_amount_increase_rate_lately</th>\n",
       "      <th>trans_activity_month</th>\n",
       "      <th>trans_activity_day</th>\n",
       "      <th>transd_mcc</th>\n",
       "      <th>...</th>\n",
       "      <th>loans_max_limit</th>\n",
       "      <th>loans_avg_limit</th>\n",
       "      <th>consfin_credit_limit</th>\n",
       "      <th>consfin_credibility</th>\n",
       "      <th>consfin_org_count_current</th>\n",
       "      <th>consfin_product_count</th>\n",
       "      <th>consfin_max_limit</th>\n",
       "      <th>consfin_avg_limit</th>\n",
       "      <th>latest_query_day</th>\n",
       "      <th>loans_latest_day</th>\n",
       "    </tr>\n",
       "  </thead>\n",
       "  <tbody>\n",
       "    <tr>\n",
       "      <th>0</th>\n",
       "      <td>2791858</td>\n",
       "      <td>2.018051e+31</td>\n",
       "      <td>卡号1</td>\n",
       "      <td>0.01</td>\n",
       "      <td>0.99</td>\n",
       "      <td>0</td>\n",
       "      <td>0.90</td>\n",
       "      <td>0.55</td>\n",
       "      <td>0.313</td>\n",
       "      <td>17.0</td>\n",
       "      <td>...</td>\n",
       "      <td>2900.0</td>\n",
       "      <td>1688.0</td>\n",
       "      <td>1200.0</td>\n",
       "      <td>75.0</td>\n",
       "      <td>1.0</td>\n",
       "      <td>2.0</td>\n",
       "      <td>1200.0</td>\n",
       "      <td>1200.0</td>\n",
       "      <td>12.0</td>\n",
       "      <td>18.0</td>\n",
       "    </tr>\n",
       "    <tr>\n",
       "      <th>1</th>\n",
       "      <td>534047</td>\n",
       "      <td>2.018051e+31</td>\n",
       "      <td>卡号1</td>\n",
       "      <td>0.02</td>\n",
       "      <td>0.94</td>\n",
       "      <td>2000</td>\n",
       "      <td>1.28</td>\n",
       "      <td>1.00</td>\n",
       "      <td>0.458</td>\n",
       "      <td>19.0</td>\n",
       "      <td>...</td>\n",
       "      <td>3500.0</td>\n",
       "      <td>1758.0</td>\n",
       "      <td>15100.0</td>\n",
       "      <td>80.0</td>\n",
       "      <td>5.0</td>\n",
       "      <td>6.0</td>\n",
       "      <td>22800.0</td>\n",
       "      <td>9360.0</td>\n",
       "      <td>4.0</td>\n",
       "      <td>2.0</td>\n",
       "    </tr>\n",
       "    <tr>\n",
       "      <th>2</th>\n",
       "      <td>2849787</td>\n",
       "      <td>2.018051e+31</td>\n",
       "      <td>卡号1</td>\n",
       "      <td>0.04</td>\n",
       "      <td>0.96</td>\n",
       "      <td>0</td>\n",
       "      <td>1.00</td>\n",
       "      <td>1.00</td>\n",
       "      <td>0.114</td>\n",
       "      <td>13.0</td>\n",
       "      <td>...</td>\n",
       "      <td>1600.0</td>\n",
       "      <td>1250.0</td>\n",
       "      <td>4200.0</td>\n",
       "      <td>87.0</td>\n",
       "      <td>1.0</td>\n",
       "      <td>1.0</td>\n",
       "      <td>4200.0</td>\n",
       "      <td>4200.0</td>\n",
       "      <td>2.0</td>\n",
       "      <td>6.0</td>\n",
       "    </tr>\n",
       "    <tr>\n",
       "      <th>3</th>\n",
       "      <td>1809708</td>\n",
       "      <td>2.018051e+31</td>\n",
       "      <td>卡号1</td>\n",
       "      <td>0.00</td>\n",
       "      <td>0.96</td>\n",
       "      <td>2000</td>\n",
       "      <td>0.13</td>\n",
       "      <td>0.57</td>\n",
       "      <td>0.777</td>\n",
       "      <td>22.0</td>\n",
       "      <td>...</td>\n",
       "      <td>3200.0</td>\n",
       "      <td>1541.0</td>\n",
       "      <td>16300.0</td>\n",
       "      <td>80.0</td>\n",
       "      <td>5.0</td>\n",
       "      <td>5.0</td>\n",
       "      <td>30000.0</td>\n",
       "      <td>12180.0</td>\n",
       "      <td>2.0</td>\n",
       "      <td>4.0</td>\n",
       "    </tr>\n",
       "    <tr>\n",
       "      <th>4</th>\n",
       "      <td>2499829</td>\n",
       "      <td>2.018051e+31</td>\n",
       "      <td>卡号1</td>\n",
       "      <td>0.01</td>\n",
       "      <td>0.99</td>\n",
       "      <td>0</td>\n",
       "      <td>0.46</td>\n",
       "      <td>1.00</td>\n",
       "      <td>0.175</td>\n",
       "      <td>13.0</td>\n",
       "      <td>...</td>\n",
       "      <td>2300.0</td>\n",
       "      <td>1630.0</td>\n",
       "      <td>8300.0</td>\n",
       "      <td>79.0</td>\n",
       "      <td>2.0</td>\n",
       "      <td>2.0</td>\n",
       "      <td>8400.0</td>\n",
       "      <td>8250.0</td>\n",
       "      <td>22.0</td>\n",
       "      <td>120.0</td>\n",
       "    </tr>\n",
       "  </tbody>\n",
       "</table>\n",
       "<p>5 rows × 89 columns</p>\n",
       "</div>"
      ],
      "text/plain": [
       "    custid      trade_no bank_card_no  low_volume_percent  \\\n",
       "0  2791858  2.018051e+31          卡号1                0.01   \n",
       "1   534047  2.018051e+31          卡号1                0.02   \n",
       "2  2849787  2.018051e+31          卡号1                0.04   \n",
       "3  1809708  2.018051e+31          卡号1                0.00   \n",
       "4  2499829  2.018051e+31          卡号1                0.01   \n",
       "\n",
       "   middle_volume_percent  take_amount_in_later_12_month_highest  \\\n",
       "0                   0.99                                      0   \n",
       "1                   0.94                                   2000   \n",
       "2                   0.96                                      0   \n",
       "3                   0.96                                   2000   \n",
       "4                   0.99                                      0   \n",
       "\n",
       "   trans_amount_increase_rate_lately  trans_activity_month  \\\n",
       "0                               0.90                  0.55   \n",
       "1                               1.28                  1.00   \n",
       "2                               1.00                  1.00   \n",
       "3                               0.13                  0.57   \n",
       "4                               0.46                  1.00   \n",
       "\n",
       "   trans_activity_day  transd_mcc        ...         loans_max_limit  \\\n",
       "0               0.313        17.0        ...                  2900.0   \n",
       "1               0.458        19.0        ...                  3500.0   \n",
       "2               0.114        13.0        ...                  1600.0   \n",
       "3               0.777        22.0        ...                  3200.0   \n",
       "4               0.175        13.0        ...                  2300.0   \n",
       "\n",
       "   loans_avg_limit  consfin_credit_limit  consfin_credibility  \\\n",
       "0           1688.0                1200.0                 75.0   \n",
       "1           1758.0               15100.0                 80.0   \n",
       "2           1250.0                4200.0                 87.0   \n",
       "3           1541.0               16300.0                 80.0   \n",
       "4           1630.0                8300.0                 79.0   \n",
       "\n",
       "   consfin_org_count_current  consfin_product_count  consfin_max_limit  \\\n",
       "0                        1.0                    2.0             1200.0   \n",
       "1                        5.0                    6.0            22800.0   \n",
       "2                        1.0                    1.0             4200.0   \n",
       "3                        5.0                    5.0            30000.0   \n",
       "4                        2.0                    2.0             8400.0   \n",
       "\n",
       "   consfin_avg_limit  latest_query_day  loans_latest_day  \n",
       "0             1200.0              12.0              18.0  \n",
       "1             9360.0               4.0               2.0  \n",
       "2             4200.0               2.0               6.0  \n",
       "3            12180.0               2.0               4.0  \n",
       "4             8250.0              22.0             120.0  \n",
       "\n",
       "[5 rows x 89 columns]"
      ]
     },
     "execution_count": 42,
     "metadata": {},
     "output_type": "execute_result"
    }
   ],
   "source": [
    "#coding=utf-8\n",
    "import pandas as pd\n",
    "data = pd.read_excel('data.xlsx')\n",
    "print(data.shape)\n",
    "data.head()"
   ]
  },
  {
   "cell_type": "code",
   "execution_count": 38,
   "metadata": {
    "collapsed": true
   },
   "outputs": [
    {
     "data": {
      "text/plain": [
       "Index(['low_volume_percent', 'middle_volume_percent',\n",
       "       'take_amount_in_later_12_month_highest',\n",
       "       'trans_amount_increase_rate_lately', 'trans_activity_month',\n",
       "       'trans_activity_day', 'transd_mcc', 'trans_days_interval_filter',\n",
       "       'trans_days_interval', 'regional_mobility', 'student_feature',\n",
       "       'repayment_capability', 'is_high_user', 'number_of_trans_from_2011',\n",
       "       'historical_trans_amount', 'historical_trans_day', 'rank_trad_1_month',\n",
       "       'trans_amount_3_month', 'avg_consume_less_12_valid_month', 'abs',\n",
       "       'top_trans_count_last_1_month', 'avg_price_last_12_month',\n",
       "       'avg_price_top_last_12_valid_month', 'reg_preference_for_trad',\n",
       "       'trans_top_time_last_1_month', 'trans_top_time_last_6_month',\n",
       "       'consume_top_time_last_1_month', 'consume_top_time_last_6_month',\n",
       "       'cross_consume_count_last_1_month',\n",
       "       'trans_fail_top_count_enum_last_1_month',\n",
       "       'trans_fail_top_count_enum_last_6_month',\n",
       "       'trans_fail_top_count_enum_last_12_month',\n",
       "       'consume_mini_time_last_1_month',\n",
       "       'max_cumulative_consume_later_1_month',\n",
       "       'max_consume_count_later_6_month',\n",
       "       'railway_consume_count_last_12_month',\n",
       "       'pawns_auctions_trusts_consume_last_1_month',\n",
       "       'pawns_auctions_trusts_consume_last_6_month',\n",
       "       'jewelry_consume_count_last_6_month', 'status', 'first_transaction_day',\n",
       "       'trans_day_last_12_month', 'apply_score', 'apply_credibility',\n",
       "       'query_org_count', 'query_finance_count', 'query_cash_count',\n",
       "       'query_sum_count', 'latest_one_month_apply', 'latest_three_month_apply',\n",
       "       'latest_six_month_apply', 'loans_score', 'loans_credibility_behavior',\n",
       "       'loans_count', 'loans_settle_count', 'loans_overdue_count',\n",
       "       'loans_org_count_behavior', 'consfin_org_count_behavior',\n",
       "       'loans_cash_count', 'latest_one_month_loan', 'latest_three_month_loan',\n",
       "       'latest_six_month_loan', 'history_suc_fee', 'history_fail_fee',\n",
       "       'latest_one_month_suc', 'latest_one_month_fail', 'loans_long_time',\n",
       "       'loans_credit_limit', 'loans_credibility_limit',\n",
       "       'loans_org_count_current', 'loans_product_count', 'loans_max_limit',\n",
       "       'loans_avg_limit', 'consfin_credit_limit', 'consfin_credibility',\n",
       "       'consfin_org_count_current', 'consfin_product_count',\n",
       "       'consfin_max_limit', 'consfin_avg_limit', 'latest_query_day',\n",
       "       'loans_latest_day'],\n",
       "      dtype='object')"
      ]
     },
     "execution_count": 38,
     "metadata": {},
     "output_type": "execute_result"
    }
   ],
   "source": [
    "# 观察各列的属性名称\n",
    "data.columns"
   ]
  },
  {
   "cell_type": "markdown",
   "metadata": {},
   "source": [
    "## 数据预处理\n",
    "\n",
    "> 无用特征删除、字符型特征编码和缺失值填充。"
   ]
  },
  {
   "cell_type": "markdown",
   "metadata": {},
   "source": [
    "###  删除无用特征"
   ]
  },
  {
   "cell_type": "markdown",
   "metadata": {},
   "source": [
    "'bank_card_no','source'的取值**无区分度**\n",
    "\n",
    "'Unnamed: 0', 'custid', 'trade_no'和id_name'**与预测无关**"
   ]
  },
  {
   "cell_type": "code",
   "execution_count": 43,
   "metadata": {},
   "outputs": [
    {
     "name": "stdout",
     "output_type": "stream",
     "text": [
      "(4754, 84)\n"
     ]
    }
   ],
   "source": [
    "data.drop(['custid', 'trade_no', 'bank_card_no', 'source', 'id_name'], \n",
    "          axis=1, inplace=True)\n",
    "print(data.shape)"
   ]
  },
  {
   "cell_type": "markdown",
   "metadata": {},
   "source": [
    "**日期特征**（暂时删除, 以后再处理。）"
   ]
  },
  {
   "cell_type": "code",
   "execution_count": 44,
   "metadata": {},
   "outputs": [],
   "source": [
    "data.drop(['first_transaction_time', 'latest_query_time', 'loans_latest_time'], \n",
    "          axis=1, inplace=True)"
   ]
  },
  {
   "cell_type": "markdown",
   "metadata": {},
   "source": [
    "### 字符型特征-编码"
   ]
  },
  {
   "cell_type": "code",
   "execution_count": 45,
   "metadata": {},
   "outputs": [
    {
     "data": {
      "text/plain": [
       "一线城市    3403\n",
       "三线城市    1064\n",
       "境外       150\n",
       "二线城市     131\n",
       "其他城市       4\n",
       "Name: reg_preference_for_trad, dtype: int64"
      ]
     },
     "execution_count": 45,
     "metadata": {},
     "output_type": "execute_result"
    }
   ],
   "source": [
    "data['reg_preference_for_trad'].value_counts()"
   ]
  },
  {
   "cell_type": "code",
   "execution_count": 46,
   "metadata": {},
   "outputs": [
    {
     "data": {
      "text/plain": [
       "{'一线城市': 0, '三线城市': 1, '境外': 2, '二线城市': 3, '其他城市': 4, nan: 5}"
      ]
     },
     "execution_count": 46,
     "metadata": {},
     "output_type": "execute_result"
    }
   ],
   "source": [
    "dic = {}\n",
    "for i, val in enumerate(list(data['reg_preference_for_trad'].unique())):\n",
    "    dic[val] = i\n",
    "dic"
   ]
  },
  {
   "cell_type": "code",
   "execution_count": 47,
   "metadata": {},
   "outputs": [
    {
     "data": {
      "text/plain": [
       "0    0\n",
       "1    0\n",
       "2    0\n",
       "3    1\n",
       "4    0\n",
       "Name: reg_preference_for_trad, dtype: int64"
      ]
     },
     "execution_count": 47,
     "metadata": {},
     "output_type": "execute_result"
    }
   ],
   "source": [
    "data['reg_preference_for_trad'] = data['reg_preference_for_trad'].map(dic)\n",
    "data['reg_preference_for_trad'] .head()"
   ]
  },
  {
   "cell_type": "markdown",
   "metadata": {},
   "source": [
    "### 缺失值处理"
   ]
  },
  {
   "cell_type": "code",
   "execution_count": 8,
   "metadata": {
    "collapsed": true
   },
   "outputs": [
    {
     "name": "stdout",
     "output_type": "stream",
     "text": [
      "0.0421 % -- low_volume_percent\n",
      "0.0421 % -- middle_volume_percent\n",
      "0.0631 % -- trans_amount_increase_rate_lately\n",
      "0.0421 % -- trans_activity_month\n",
      "0.0421 % -- trans_activity_day\n",
      "0.0421 % -- transd_mcc\n",
      "0.1683 % -- trans_days_interval_filter\n",
      "0.0421 % -- trans_days_interval\n",
      "0.0421 % -- regional_mobility\n",
      "63.0627 % -- student_feature\n",
      "0.0421 % -- number_of_trans_from_2011\n",
      "0.0421 % -- historical_trans_day\n",
      "0.0421 % -- rank_trad_1_month\n",
      "0.0421 % -- avg_consume_less_12_valid_month\n",
      "0.0421 % -- top_trans_count_last_1_month\n",
      "2.1876 % -- avg_price_top_last_12_valid_month\n",
      "0.1683 % -- trans_top_time_last_1_month\n",
      "0.1683 % -- trans_top_time_last_6_month\n",
      "0.1683 % -- consume_top_time_last_1_month\n",
      "0.1683 % -- consume_top_time_last_6_month\n",
      "8.9609 % -- cross_consume_count_last_1_month\n",
      "0.3366 % -- trans_fail_top_count_enum_last_1_month\n",
      "0.3366 % -- trans_fail_top_count_enum_last_6_month\n",
      "0.3366 % -- trans_fail_top_count_enum_last_12_month\n",
      "0.5469 % -- consume_mini_time_last_1_month\n",
      "0.1683 % -- max_consume_count_later_6_month\n",
      "0.2524 % -- railway_consume_count_last_12_month\n",
      "0.2524 % -- jewelry_consume_count_last_6_month\n",
      "0.0421 % -- first_transaction_day\n",
      "0.0421 % -- trans_day_last_12_month\n",
      "6.3946 % -- apply_score\n",
      "6.3946 % -- apply_credibility\n",
      "6.3946 % -- query_org_count\n",
      "6.3946 % -- query_finance_count\n",
      "6.3946 % -- query_cash_count\n",
      "6.3946 % -- query_sum_count\n",
      "6.3946 % -- latest_one_month_apply\n",
      "6.3946 % -- latest_three_month_apply\n",
      "6.3946 % -- latest_six_month_apply\n",
      "6.2474 % -- loans_score\n",
      "6.2474 % -- loans_credibility_behavior\n",
      "6.2474 % -- loans_count\n",
      "6.2474 % -- loans_settle_count\n",
      "6.2474 % -- loans_overdue_count\n",
      "6.2474 % -- loans_org_count_behavior\n",
      "6.2474 % -- consfin_org_count_behavior\n",
      "6.2474 % -- loans_cash_count\n",
      "6.2474 % -- latest_one_month_loan\n",
      "6.2474 % -- latest_three_month_loan\n",
      "6.2474 % -- latest_six_month_loan\n",
      "6.2474 % -- history_suc_fee\n",
      "6.2474 % -- history_fail_fee\n",
      "6.2474 % -- latest_one_month_suc\n",
      "6.2474 % -- latest_one_month_fail\n",
      "6.2474 % -- loans_long_time\n",
      "6.2474 % -- loans_credit_limit\n",
      "6.2474 % -- loans_credibility_limit\n",
      "6.2474 % -- loans_org_count_current\n",
      "6.2474 % -- loans_product_count\n",
      "6.2474 % -- loans_max_limit\n",
      "6.2474 % -- loans_avg_limit\n",
      "6.2474 % -- consfin_credit_limit\n",
      "6.2474 % -- consfin_credibility\n",
      "6.2474 % -- consfin_org_count_current\n",
      "6.2474 % -- consfin_product_count\n",
      "6.2474 % -- consfin_max_limit\n",
      "6.2474 % -- consfin_avg_limit\n",
      "6.3946 % -- latest_query_day\n",
      "6.2474 % -- loans_latest_day\n"
     ]
    }
   ],
   "source": [
    "for feature in data.columns:\n",
    "    summ = data[feature].isnull().sum()\n",
    "    if summ:\n",
    "        print('%.4f'%(summ*100/len(data)), '%',  '--', feature)"
   ]
  },
  {
   "cell_type": "markdown",
   "metadata": {},
   "source": [
    "1) student_feature 缺失占比多, 需要用**众数**填充;"
   ]
  },
  {
   "cell_type": "code",
   "execution_count": 9,
   "metadata": {},
   "outputs": [
    {
     "data": {
      "text/plain": [
       "1.0    1754\n",
       "2.0       2\n",
       "Name: student_feature, dtype: int64"
      ]
     },
     "execution_count": 9,
     "metadata": {},
     "output_type": "execute_result"
    }
   ],
   "source": [
    "data['student_feature'].value_counts()"
   ]
  },
  {
   "cell_type": "code",
   "execution_count": 10,
   "metadata": {
    "collapsed": true
   },
   "outputs": [],
   "source": [
    "data['student_feature'].fillna(1.0, inplace = True)"
   ]
  },
  {
   "cell_type": "code",
   "execution_count": 11,
   "metadata": {
    "scrolled": true
   },
   "outputs": [
    {
     "data": {
      "text/plain": [
       "1.0    4752\n",
       "2.0       2\n",
       "Name: student_feature, dtype: int64"
      ]
     },
     "execution_count": 11,
     "metadata": {},
     "output_type": "execute_result"
    }
   ],
   "source": [
    "data['student_feature'].value_counts()"
   ]
  },
  {
   "cell_type": "markdown",
   "metadata": {},
   "source": [
    "2) 其余特征用**均值**填充。"
   ]
  },
  {
   "cell_type": "code",
   "execution_count": 49,
   "metadata": {},
   "outputs": [],
   "source": [
    "for feature in data.columns:\n",
    "    summ = data[feature].isnull().sum()\n",
    "    if summ:\n",
    "        data[feature].fillna(data[feature].mean(), inplace = True)"
   ]
  },
  {
   "cell_type": "markdown",
   "metadata": {},
   "source": [
    "'Unnamed: 0', 'custid', 'trade_no', 'bank_card_no', 'source'都没用, 'id_name'表示姓名, 没用？\n",
    "\n",
    "'take_amount_in_later_12_month_highest'数值跨度可能较大, 归一化？\n",
    "\n",
    "某些特征可能包含缺失值NAN\n",
    "\n",
    "'reg_preference_for_trad'需要编码\n",
    "\n",
    "'latest_query_time', 'loans_latest_time'为日期特征"
   ]
  },
  {
   "cell_type": "markdown",
   "metadata": {},
   "source": [
    "## 特征工程"
   ]
  },
  {
   "cell_type": "markdown",
   "metadata": {
    "collapsed": true
   },
   "source": [
    "## 模型选择"
   ]
  },
  {
   "cell_type": "markdown",
   "metadata": {},
   "source": [
    "### 数据集划分"
   ]
  },
  {
   "cell_type": "code",
   "execution_count": 51,
   "metadata": {
    "collapsed": true
   },
   "outputs": [
    {
     "data": {
      "text/plain": [
       "['low_volume_percent',\n",
       " 'middle_volume_percent',\n",
       " 'take_amount_in_later_12_month_highest',\n",
       " 'trans_amount_increase_rate_lately',\n",
       " 'trans_activity_month',\n",
       " 'trans_activity_day',\n",
       " 'transd_mcc',\n",
       " 'trans_days_interval_filter',\n",
       " 'trans_days_interval',\n",
       " 'regional_mobility',\n",
       " 'student_feature',\n",
       " 'repayment_capability',\n",
       " 'is_high_user',\n",
       " 'number_of_trans_from_2011',\n",
       " 'historical_trans_amount',\n",
       " 'historical_trans_day',\n",
       " 'rank_trad_1_month',\n",
       " 'trans_amount_3_month',\n",
       " 'avg_consume_less_12_valid_month',\n",
       " 'abs',\n",
       " 'top_trans_count_last_1_month',\n",
       " 'avg_price_last_12_month',\n",
       " 'avg_price_top_last_12_valid_month',\n",
       " 'reg_preference_for_trad',\n",
       " 'trans_top_time_last_1_month',\n",
       " 'trans_top_time_last_6_month',\n",
       " 'consume_top_time_last_1_month',\n",
       " 'consume_top_time_last_6_month',\n",
       " 'cross_consume_count_last_1_month',\n",
       " 'trans_fail_top_count_enum_last_1_month',\n",
       " 'trans_fail_top_count_enum_last_6_month',\n",
       " 'trans_fail_top_count_enum_last_12_month',\n",
       " 'consume_mini_time_last_1_month',\n",
       " 'max_cumulative_consume_later_1_month',\n",
       " 'max_consume_count_later_6_month',\n",
       " 'railway_consume_count_last_12_month',\n",
       " 'pawns_auctions_trusts_consume_last_1_month',\n",
       " 'pawns_auctions_trusts_consume_last_6_month',\n",
       " 'jewelry_consume_count_last_6_month',\n",
       " 'first_transaction_day',\n",
       " 'trans_day_last_12_month',\n",
       " 'apply_score',\n",
       " 'apply_credibility',\n",
       " 'query_org_count',\n",
       " 'query_finance_count',\n",
       " 'query_cash_count',\n",
       " 'query_sum_count',\n",
       " 'latest_one_month_apply',\n",
       " 'latest_three_month_apply',\n",
       " 'latest_six_month_apply',\n",
       " 'loans_score',\n",
       " 'loans_credibility_behavior',\n",
       " 'loans_count',\n",
       " 'loans_settle_count',\n",
       " 'loans_overdue_count',\n",
       " 'loans_org_count_behavior',\n",
       " 'consfin_org_count_behavior',\n",
       " 'loans_cash_count',\n",
       " 'latest_one_month_loan',\n",
       " 'latest_three_month_loan',\n",
       " 'latest_six_month_loan',\n",
       " 'history_suc_fee',\n",
       " 'history_fail_fee',\n",
       " 'latest_one_month_suc',\n",
       " 'latest_one_month_fail',\n",
       " 'loans_long_time',\n",
       " 'loans_credit_limit',\n",
       " 'loans_credibility_limit',\n",
       " 'loans_org_count_current',\n",
       " 'loans_product_count',\n",
       " 'loans_max_limit',\n",
       " 'loans_avg_limit',\n",
       " 'consfin_credit_limit',\n",
       " 'consfin_credibility',\n",
       " 'consfin_org_count_current',\n",
       " 'consfin_product_count',\n",
       " 'consfin_max_limit',\n",
       " 'consfin_avg_limit',\n",
       " 'latest_query_day',\n",
       " 'loans_latest_day']"
      ]
     },
     "execution_count": 51,
     "metadata": {},
     "output_type": "execute_result"
    }
   ],
   "source": [
    "features = [x for x in data.columns if x not in ['status']]\n",
    "features"
   ]
  },
  {
   "cell_type": "code",
   "execution_count": 52,
   "metadata": {},
   "outputs": [],
   "source": [
    "import warnings\n",
    "warnings.filterwarnings(\"ignore\")\n",
    "# 划分训练集测试集\n",
    "from sklearn.model_selection import train_test_split\n",
    "from sklearn.preprocessing import StandardScaler\n",
    "\n",
    "X = data[features]\n",
    "y = data.status\n",
    "\n",
    "X_train, X_test, y_train, y_test = train_test_split(X, y, test_size=0.3,random_state=2333)\n",
    "\n",
    "# 特征归一化\n",
    "std = StandardScaler()\n",
    "X_train = std.fit_transform(X_train)\n",
    "X_test = std.transform(X_test)"
   ]
  },
  {
   "cell_type": "markdown",
   "metadata": {},
   "source": [
    "### LR模型"
   ]
  },
  {
   "cell_type": "code",
   "execution_count": 53,
   "metadata": {},
   "outputs": [
    {
     "data": {
      "text/plain": [
       "LogisticRegression(C=1.0, class_weight=None, dual=False, fit_intercept=True,\n",
       "          intercept_scaling=1, max_iter=100, multi_class='warn',\n",
       "          n_jobs=None, penalty='l2', random_state=None, solver='warn',\n",
       "          tol=0.0001, verbose=0, warm_start=False)"
      ]
     },
     "execution_count": 53,
     "metadata": {},
     "output_type": "execute_result"
    }
   ],
   "source": [
    "from sklearn.linear_model import LogisticRegression\n",
    "\n",
    "lr = LogisticRegression()\n",
    "lr.fit(X_train, y_train)"
   ]
  },
  {
   "cell_type": "markdown",
   "metadata": {},
   "source": [
    "### SVM模型\n",
    "\n",
    "> 线性核函数、多项式核函数、高斯核函数、sigmoid核函数"
   ]
  },
  {
   "cell_type": "code",
   "execution_count": 54,
   "metadata": {},
   "outputs": [],
   "source": [
    "from sklearn import svm\n",
    "\n",
    "svm_linear = svm.SVC(kernel = 'linear', probability=True).fit(X_train, y_train)\n",
    "svm_poly = svm.SVC(kernel = 'poly', probability=True).fit(X_train, y_train)\n",
    "svm_rbf = svm.SVC(probability=True).fit(X_train, y_train)\n",
    "svm_sigmoid = svm.SVC(kernel = 'sigmoid',probability=True).fit(X_train, y_train)"
   ]
  },
  {
   "cell_type": "markdown",
   "metadata": {},
   "source": [
    "### 决策树模型\n",
    "\n",
    "> 树模型，特征不需归一化。"
   ]
  },
  {
   "cell_type": "code",
   "execution_count": 55,
   "metadata": {},
   "outputs": [
    {
     "data": {
      "text/plain": [
       "DecisionTreeClassifier(class_weight=None, criterion='gini', max_depth=4,\n",
       "            max_features=None, max_leaf_nodes=None,\n",
       "            min_impurity_decrease=0.0, min_impurity_split=None,\n",
       "            min_samples_leaf=1, min_samples_split=2,\n",
       "            min_weight_fraction_leaf=0.0, presort=False, random_state=None,\n",
       "            splitter='best')"
      ]
     },
     "execution_count": 55,
     "metadata": {},
     "output_type": "execute_result"
    }
   ],
   "source": [
    "from sklearn.tree import DecisionTreeClassifier\n",
    "\n",
    "dt = DecisionTreeClassifier(max_depth=4)\n",
    "dt.fit(X_train, y_train)"
   ]
  },
  {
   "cell_type": "markdown",
   "metadata": {},
   "source": [
    "### XGBoost模型"
   ]
  },
  {
   "cell_type": "code",
   "execution_count": 21,
   "metadata": {},
   "outputs": [
    {
     "data": {
      "text/plain": [
       "XGBClassifier(base_score=0.5, booster='gbtree', colsample_bylevel=1,\n",
       "       colsample_bytree=1, gamma=0, learning_rate=0.1, max_delta_step=0,\n",
       "       max_depth=3, min_child_weight=1, missing=None, n_estimators=100,\n",
       "       n_jobs=1, nthread=None, objective='binary:logistic', random_state=0,\n",
       "       reg_alpha=0, reg_lambda=1, scale_pos_weight=1, seed=None,\n",
       "       silent=True, subsample=1)"
      ]
     },
     "execution_count": 21,
     "metadata": {},
     "output_type": "execute_result"
    }
   ],
   "source": [
    "import warnings\n",
    "warnings.filterwarnings(\"ignore\")\n",
    "from xgboost.sklearn import XGBClassifier\n",
    "\n",
    "xgb = XGBClassifier()\n",
    "xgb.fit(X_train, y_train)"
   ]
  },
  {
   "cell_type": "markdown",
   "metadata": {},
   "source": [
    "### LightGBM模型"
   ]
  },
  {
   "cell_type": "code",
   "execution_count": 56,
   "metadata": {
    "collapsed": true
   },
   "outputs": [
    {
     "ename": "ModuleNotFoundError",
     "evalue": "No module named 'lightgbm'",
     "output_type": "error",
     "traceback": [
      "\u001b[0;31m---------------------------------------------------------------------------\u001b[0m",
      "\u001b[0;31mModuleNotFoundError\u001b[0m                       Traceback (most recent call last)",
      "\u001b[0;32m<ipython-input-56-34649622c2ba>\u001b[0m in \u001b[0;36m<module>\u001b[0;34m\u001b[0m\n\u001b[0;32m----> 1\u001b[0;31m \u001b[0;32mfrom\u001b[0m \u001b[0mlightgbm\u001b[0m\u001b[0;34m.\u001b[0m\u001b[0msklearn\u001b[0m \u001b[0;32mimport\u001b[0m \u001b[0mLGBMClassifier\u001b[0m\u001b[0;34m\u001b[0m\u001b[0;34m\u001b[0m\u001b[0m\n\u001b[0m\u001b[1;32m      2\u001b[0m \u001b[0;34m\u001b[0m\u001b[0m\n\u001b[1;32m      3\u001b[0m \u001b[0mlgb\u001b[0m\u001b[0;34m=\u001b[0m \u001b[0mLGBMClassifier\u001b[0m\u001b[0;34m(\u001b[0m\u001b[0;34m)\u001b[0m\u001b[0;34m\u001b[0m\u001b[0;34m\u001b[0m\u001b[0m\n\u001b[1;32m      4\u001b[0m \u001b[0mlgb\u001b[0m\u001b[0;34m.\u001b[0m\u001b[0mfit\u001b[0m\u001b[0;34m(\u001b[0m\u001b[0mX_train\u001b[0m\u001b[0;34m,\u001b[0m \u001b[0my_train\u001b[0m\u001b[0;34m)\u001b[0m\u001b[0;34m\u001b[0m\u001b[0;34m\u001b[0m\u001b[0m\n",
      "\u001b[0;31mModuleNotFoundError\u001b[0m: No module named 'lightgbm'"
     ]
    }
   ],
   "source": [
    "from lightgbm.sklearn import LGBMClassifier\n",
    "\n",
    "lgb= LGBMClassifier()\n",
    "lgb.fit(X_train, y_train)"
   ]
  },
  {
   "cell_type": "markdown",
   "metadata": {},
   "source": [
    "## 模型调参"
   ]
  },
  {
   "cell_type": "code",
   "execution_count": 57,
   "metadata": {},
   "outputs": [
    {
     "name": "stdout",
     "output_type": "stream",
     "text": [
      "{'C': 0.1, 'penalty': 'l1'} 0.7883979561166216\n"
     ]
    }
   ],
   "source": [
    "from sklearn.model_selection import GridSearchCV\n",
    "\n",
    "lr = LogisticRegression()\n",
    "lr_param = {'penalty': ('l1', 'l2'), 'C': [0.0001,0.001,0.01,0.1,1,10,100,1000]}\n",
    "\n",
    "grid = GridSearchCV(lr, param_grid = lr_param, cv = 5)\n",
    "grid.fit(X_train, y_train)\n",
    "\n",
    "print(grid.best_params_, grid.best_score_)"
   ]
  },
  {
   "cell_type": "markdown",
   "metadata": {},
   "source": [
    "## 模型评估\n",
    "\n",
    "> 观察accuracy、precision，recall和f1-score、auc的取值，并画出roc曲线图"
   ]
  },
  {
   "cell_type": "code",
   "execution_count": 58,
   "metadata": {},
   "outputs": [],
   "source": [
    "from sklearn.metrics import accuracy_score, precision_score, recall_score, f1_score\n",
    "from sklearn.metrics import roc_auc_score,roc_curve, auc\n",
    "import matplotlib.pyplot as plt\n",
    "%matplotlib inline"
   ]
  },
  {
   "cell_type": "code",
   "execution_count": 59,
   "metadata": {},
   "outputs": [],
   "source": [
    "def model_metrics(clf, X_train, X_test, y_train, y_test):\n",
    "    # 预测\n",
    "    y_train_pred = clf.predict(X_train)\n",
    "    y_test_pred = clf.predict(X_test)\n",
    "    \n",
    "    y_train_proba = clf.predict_proba(X_train)[:,1]\n",
    "    y_test_proba = clf.predict_proba(X_test)[:,1]\n",
    "    \n",
    "    # 准确率\n",
    "    print('[准确率]', end = ' ')\n",
    "    print('训练集：', '%.4f'%accuracy_score(y_train, y_train_pred), end = ' ')\n",
    "    print('测试集：', '%.4f'%accuracy_score(y_test, y_test_pred))\n",
    "    \n",
    "    # 精准率\n",
    "    print('[精准率]', end = ' ')\n",
    "    print('训练集：', '%.4f'%precision_score(y_train, y_train_pred), end = ' ')\n",
    "    print('测试集：', '%.4f'%precision_score(y_test, y_test_pred))\n",
    "\n",
    "    # 召回率\n",
    "    print('[召回率]', end = ' ')\n",
    "    print('训练集：', '%.4f'%recall_score(y_train, y_train_pred), end = ' ')\n",
    "    print('测试集：', '%.4f'%recall_score(y_test, y_test_pred))\n",
    "    \n",
    "    # f1-score\n",
    "    print('[f1-score]', end = ' ')\n",
    "    print('训练集：', '%.4f'%f1_score(y_train, y_train_pred), end = ' ')\n",
    "    print('测试集：', '%.4f'%f1_score(y_test, y_test_pred))\n",
    "    \n",
    "    # auc取值：用roc_auc_score或auc\n",
    "    print('[auc值]', end = ' ')\n",
    "    print('训练集：', '%.4f'%roc_auc_score(y_train, y_train_proba), end = ' ')\n",
    "    print('测试集：', '%.4f'%roc_auc_score(y_test, y_test_proba))\n",
    "    \n",
    "    # roc曲线\n",
    "    fpr_train, tpr_train, thresholds_train = roc_curve(y_train, y_train_proba, pos_label = 1)\n",
    "    fpr_test, tpr_test, thresholds_test = roc_curve(y_test, y_test_proba, pos_label = 1)\n",
    "    \n",
    "    label = [\"Train - AUC:{:.4f}\".format(auc(fpr_train, tpr_train)), \n",
    "             \"Test - AUC:{:.4f}\".format(auc(fpr_test, tpr_test))]\n",
    "    plt.plot(fpr_train,tpr_train)\n",
    "    plt.plot(fpr_test,tpr_test)\n",
    "    plt.plot([0, 1], [0, 1], 'd--')\n",
    "    plt.xlabel('False Positive Rate')\n",
    "    plt.ylabel('True Positive Rate')\n",
    "    plt.legend(label, loc = 4)\n",
    "    plt.title(\"ROC curve\")"
   ]
  },
  {
   "cell_type": "code",
   "execution_count": 62,
   "metadata": {},
   "outputs": [
    {
     "name": "stdout",
     "output_type": "stream",
     "text": [
      "[准确率] 训练集： 0.7959 测试集： 0.8073\n",
      "[精准率] 训练集： 0.7158 测试集： 0.7468\n",
      "[召回率] 训练集： 0.3179 测试集： 0.3343\n",
      "[f1-score] 训练集： 0.4402 测试集： 0.4618\n",
      "[auc值] 训练集： 0.8010 测试集： 0.8014\n"
     ]
    },
    {
     "data": {
      "image/png": "[encoded data removed]",
      "text/plain": [
       "<Figure size 432x288 with 1 Axes>"
      ]
     },
     "metadata": {
      "needs_background": "light"
     },
     "output_type": "display_data"
    }
   ],
   "source": [
    "# 逻辑回归\n",
    "lr = LogisticRegression(C=0.1, penalty='l1').fit(X_train, y_train)\n",
    "model_metrics(lr, X_train, X_test, y_train, y_test)"
   ]
  },
  {
   "cell_type": "code",
   "execution_count": 61,
   "metadata": {
    "scrolled": false
   },
   "outputs": [
    {
     "name": "stdout",
     "output_type": "stream",
     "text": [
      "[准确率] 训练集： 0.7908 测试集： 0.7947\n",
      "[精准率] 训练集： 0.7647 测试集： 0.7885\n",
      "[召回率] 训练集： 0.2476 测试集： 0.2323\n",
      "[f1-score] 训练集： 0.3741 测试集： 0.3589\n",
      "[auc值] 训练集： 0.8042 测试集： 0.8093\n"
     ]
    },
    {
     "data": {
      "image/png": "[encoded data removed]",
      "text/plain": [
       "<Figure size 432x288 with 1 Axes>"
      ]
     },
     "metadata": {
      "needs_background": "light"
     },
     "output_type": "display_data"
    }
   ],
   "source": [
    "# 线性SVM\n",
    "model_metrics(svm_linear, X_train, X_test, y_train, y_test)"
   ]
  },
  {
   "cell_type": "code",
   "execution_count": 24,
   "metadata": {},
   "outputs": [
    {
     "name": "stdout",
     "output_type": "stream",
     "text": [
      "[准确率] 训练集： 0.8284 测试集： 0.7554\n",
      "[精准率] 训练集： 0.9786 测试集： 0.5208\n",
      "[召回率] 训练集： 0.3274 测试集： 0.1416\n",
      "[f1-score] 训练集： 0.4906 测试集： 0.2227\n",
      "[auc值] 训练集： 0.9391 测试集： 0.7117\n"
     ]
    },
    {
     "data": {
      "image/png": "[encoded data removed]",
      "text/plain": [
       "<matplotlib.figure.Figure at 0x2bf0aea39b0>"
      ]
     },
     "metadata": {},
     "output_type": "display_data"
    }
   ],
   "source": [
    "# 多项式SVM\n",
    "model_metrics(svm_poly, X_train, X_test, y_train, y_test)"
   ]
  },
  {
   "cell_type": "code",
   "execution_count": 25,
   "metadata": {},
   "outputs": [
    {
     "name": "stdout",
     "output_type": "stream",
     "text": [
      "[准确率] 训练集： 0.8266 测试集： 0.7975\n",
      "[精准率] 训练集： 0.9046 测试集： 0.7963\n",
      "[召回率] 训练集： 0.3500 测试集： 0.2436\n",
      "[f1-score] 训练集： 0.5047 测试集： 0.3731\n",
      "[auc值] 训练集： 0.9170 测试集： 0.7680\n"
     ]
    },
    {
     "data": {
      "image/png": "[encoded data removed]",
      "text/plain": [
       "<matplotlib.figure.Figure at 0x2bf0af11cc0>"
      ]
     },
     "metadata": {},
     "output_type": "display_data"
    }
   ],
   "source": [
    "# 高斯核SVM\n",
    "model_metrics(svm_rbf, X_train, X_test, y_train, y_test)"
   ]
  },
  {
   "cell_type": "code",
   "execution_count": 26,
   "metadata": {},
   "outputs": [
    {
     "name": "stdout",
     "output_type": "stream",
     "text": [
      "[准确率] 训练集： 0.7205 测试集： 0.7379\n",
      "[精准率] 训练集： 0.4373 测试集： 0.4662\n",
      "[召回率] 训练集： 0.3738 测试集： 0.4108\n",
      "[f1-score] 训练集： 0.4031 测试集： 0.4367\n",
      "[auc值] 训练集： 0.6600 测试集： 0.6784\n"
     ]
    },
    {
     "data": {
      "image/png": "[encoded data removed]",
      "text/plain": [
       "<matplotlib.figure.Figure at 0x2bf0afbc208>"
      ]
     },
     "metadata": {},
     "output_type": "display_data"
    }
   ],
   "source": [
    "# sigmoid-SVM\n",
    "model_metrics(svm_sigmoid, X_train, X_test, y_train, y_test)"
   ]
  },
  {
   "cell_type": "code",
   "execution_count": 27,
   "metadata": {},
   "outputs": [
    {
     "name": "stdout",
     "output_type": "stream",
     "text": [
      "[准确率] 训练集： 0.7920 测试集： 0.7737\n",
      "[精准率] 训练集： 0.6581 测试集： 0.5862\n",
      "[召回率] 训练集： 0.3667 测试集： 0.2890\n",
      "[f1-score] 训练集： 0.4709 测试集： 0.3871\n",
      "[auc值] 训练集： 0.7727 测试集： 0.7468\n"
     ]
    },
    {
     "data": {
      "image/png": "[encoded data removed]",
      "text/plain": [
       "<matplotlib.figure.Figure at 0x2bf0b02d470>"
      ]
     },
     "metadata": {},
     "output_type": "display_data"
    }
   ],
   "source": [
    "# 决策树\n",
    "model_metrics(dt, X_train, X_test, y_train, y_test)"
   ]
  },
  {
   "cell_type": "code",
   "execution_count": 66,
   "metadata": {},
   "outputs": [
    {
     "ename": "ModuleNotFoundError",
     "evalue": "No module named 'xgboost'",
     "output_type": "error",
     "traceback": [
      "\u001b[0;31m---------------------------------------------------------------------------\u001b[0m",
      "\u001b[0;31mModuleNotFoundError\u001b[0m                       Traceback (most recent call last)",
      "\u001b[0;32m<ipython-input-66-8bd72a5a00f2>\u001b[0m in \u001b[0;36m<module>\u001b[0;34m\u001b[0m\n\u001b[1;32m      1\u001b[0m \u001b[0;31m# XGBoost\u001b[0m\u001b[0;34m\u001b[0m\u001b[0;34m\u001b[0m\u001b[0;34m\u001b[0m\u001b[0m\n\u001b[0;32m----> 2\u001b[0;31m \u001b[0;32mfrom\u001b[0m \u001b[0mxgboost\u001b[0m\u001b[0;34m.\u001b[0m\u001b[0msklearn\u001b[0m \u001b[0;32mimport\u001b[0m \u001b[0mXGBClassifier\u001b[0m\u001b[0;34m\u001b[0m\u001b[0;34m\u001b[0m\u001b[0m\n\u001b[0m\u001b[1;32m      3\u001b[0m \u001b[0mxgb\u001b[0m \u001b[0;34m=\u001b[0m \u001b[0mXGBClassifier\u001b[0m\u001b[0;34m(\u001b[0m\u001b[0;34m)\u001b[0m\u001b[0;34m.\u001b[0m\u001b[0mfit\u001b[0m\u001b[0;34m(\u001b[0m\u001b[0mX_train\u001b[0m\u001b[0;34m,\u001b[0m \u001b[0my_train\u001b[0m\u001b[0;34m)\u001b[0m\u001b[0;34m\u001b[0m\u001b[0;34m\u001b[0m\u001b[0m\n\u001b[1;32m      4\u001b[0m \u001b[0mmodel_metrics\u001b[0m\u001b[0;34m(\u001b[0m\u001b[0mxgb\u001b[0m\u001b[0;34m,\u001b[0m \u001b[0mX_train\u001b[0m\u001b[0;34m,\u001b[0m \u001b[0mX_test\u001b[0m\u001b[0;34m,\u001b[0m \u001b[0my_train\u001b[0m\u001b[0;34m,\u001b[0m \u001b[0my_test\u001b[0m\u001b[0;34m)\u001b[0m\u001b[0;34m\u001b[0m\u001b[0;34m\u001b[0m\u001b[0m\n",
      "\u001b[0;31mModuleNotFoundError\u001b[0m: No module named 'xgboost'"
     ]
    }
   ],
   "source": [
    "# XGBoost\n",
    "from xgboost.sklearn import XGBClassifier\n",
    "xgb = XGBClassifier().fit(X_train, y_train)\n",
    "model_metrics(xgb, X_train, X_test, y_train, y_test)"
   ]
  },
  {
   "cell_type": "code",
   "execution_count": 29,
   "metadata": {},
   "outputs": [
    {
     "name": "stdout",
     "output_type": "stream",
     "text": [
      "[准确率] 训练集： 0.9949 测试集： 0.7961\n",
      "[精准率] 训练集： 1.0000 测试集： 0.6550\n",
      "[召回率] 训练集： 0.9798 测试集： 0.3711\n",
      "[f1-score] 训练集： 0.9898 测试集： 0.4738\n",
      "[auc值] 训练集： 1.0000 测试集： 0.7869\n"
     ]
    },
    {
     "data": {
      "image/png": "[encoded data removed]",
      "text/plain": [
       "<matplotlib.figure.Figure at 0x2bf0b1d8278>"
      ]
     },
     "metadata": {},
     "output_type": "display_data"
    }
   ],
   "source": [
    "# lightGBM\n",
    "model_metrics(lgb, X_train, X_test, y_train, y_test)"
   ]
  },
  {
   "cell_type": "markdown",
   "metadata": {},
   "source": [
    "# 遇到的问题"
   ]
  },
  {
   "cell_type": "markdown",
   "metadata": {},
   "source": [
    "1）pd.read_csv读取文件时，utf-8的编码问题。\n",
    "\n",
    "解决方法：reference1\n",
    "\n",
    "2）装完xgboost后在notebook总是显示如下错误：ImportError: cannot import name 'MultiIndex'。\n",
    "\n",
    "**解决方法**：更新scipy和xgboost后还是没有解决；后来重启了一下jupyter就好了....\n",
    "\n",
    "3）画ROC曲线时, tpr取值为nan\n",
    "\n",
    "**解决方法**：注意roc_curve里的几个参数：第二项为**真实y与预测的scores**而不是y_pred，而pos_label=1指在y中标签为1的是标准阳性标签，其余值是阴性。\n",
    "\n",
    "4）svm用函数clf.predict_proba()时候报错如下：\n",
    "\n",
    "> AttributeError: predict_proba is not available when  probability=False\n",
    " \n",
    "**解决方法**：clf = SVC()默认情况probability=False，添加probability=True"
   ]
  },
  {
   "cell_type": "markdown",
   "metadata": {},
   "source": [
    "# Reference"
   ]
  },
  {
   "cell_type": "markdown",
   "metadata": {},
   "source": [
    "1) [python问题--UnicodeDecodeError: 'utf-8' codec can't decode byte 0xff in position 0: invalid start byte](https://blog.csdn.net/u012429555/article/details/80960985)\n",
    "\n",
    "2) [xgboost的原生版本与sklearn 接口版本对比](https://blog.csdn.net/PIPIXIU/article/details/80463565)"
   ]
  }
 ],
 "metadata": {
  "celltoolbar": "Raw Cell Format",
  "kernelspec": {
   "display_name": "Python 3",
   "language": "python",
   "name": "python3"
  },
  "language_info": {
   "codemirror_mode": {
    "name": "ipython",
    "version": 3
   },
   "file_extension": ".py",
   "mimetype": "text/x-python",
   "name": "python",
   "nbconvert_exporter": "python",
   "pygments_lexer": "ipython3",
   "version": "3.7.1"
  },
  "toc": {
   "nav_menu": {},
   "number_sections": true,
   "sideBar": true,
   "skip_h1_title": false,
   "title_cell": "Table of Contents",
   "title_sidebar": "Contents",
   "toc_cell": true,
   "toc_position": {},
   "toc_section_display": true,
   "toc_window_display": false
  }
 },
 "nbformat": 4,
 "nbformat_minor": 2
}
