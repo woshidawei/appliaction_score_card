{
 "cells": [
  {
   "cell_type": "markdown",
   "metadata": {
    "toc": true
   },
   "source": [
    "<h1>Table of Contents<span class=\"tocSkip\"></span></h1>\n",
    "<div class=\"toc\"><ul class=\"toc-item\"><li><span><a href=\"#判定贷款用户是否逾期\" data-toc-modified-id=\"判定贷款用户是否逾期-1\"><span class=\"toc-item-num\">1&nbsp;&nbsp;</span>判定贷款用户是否逾期</a></span><ul class=\"toc-item\"><li><span><a href=\"#载入数据\" data-toc-modified-id=\"载入数据-1.1\"><span class=\"toc-item-num\">1.1&nbsp;&nbsp;</span>载入数据</a></span></li><li><span><a href=\"#模型选择与模型评估\" data-toc-modified-id=\"模型选择与模型评估-1.2\"><span class=\"toc-item-num\">1.2&nbsp;&nbsp;</span>模型选择与模型评估</a></span><ul class=\"toc-item\"><li><span><a href=\"#LR模型\" data-toc-modified-id=\"LR模型-1.2.1\"><span class=\"toc-item-num\">1.2.1&nbsp;&nbsp;</span>LR模型</a></span></li><li><span><a href=\"#SVM模型\" data-toc-modified-id=\"SVM模型-1.2.2\"><span class=\"toc-item-num\">1.2.2&nbsp;&nbsp;</span>SVM模型</a></span></li><li><span><a href=\"#决策树模型\" data-toc-modified-id=\"决策树模型-1.2.3\"><span class=\"toc-item-num\">1.2.3&nbsp;&nbsp;</span>决策树模型</a></span></li><li><span><a href=\"#XGBoost模型\" data-toc-modified-id=\"XGBoost模型-1.2.4\"><span class=\"toc-item-num\">1.2.4&nbsp;&nbsp;</span>XGBoost模型</a></span></li><li><span><a href=\"#LightGBM模型\" data-toc-modified-id=\"LightGBM模型-1.2.5\"><span class=\"toc-item-num\">1.2.5&nbsp;&nbsp;</span>LightGBM模型</a></span></li><li><span><a href=\"#最终模型\" data-toc-modified-id=\"最终模型-1.2.6\"><span class=\"toc-item-num\">1.2.6&nbsp;&nbsp;</span>最终模型</a></span></li></ul></li></ul></li><li><span><a href=\"#结果对比\" data-toc-modified-id=\"结果对比-2\"><span class=\"toc-item-num\">2&nbsp;&nbsp;</span>结果对比</a></span></li></ul></div>"
   ]
  },
  {
   "cell_type": "markdown",
   "metadata": {},
   "source": [
    "# 判定贷款用户是否逾期"
   ]
  },
  {
   "cell_type": "markdown",
   "metadata": {},
   "source": [
    "给定金融数据，预测贷款用户是否会逾期。\n",
    "（status是标签：0表示未逾期，1表示逾期。）\n",
    "\n",
    "**Final** - 用统一的数据。数据三七分，随机种子2018，用AUC作为模型评价指标，比一下单模型和融合模型的比分。"
   ]
  },
  {
   "cell_type": "markdown",
   "metadata": {},
   "source": [
    "## 载入数据"
   ]
  },
  {
   "cell_type": "code",
   "execution_count": 1,
   "metadata": {
    "collapsed": true
   },
   "outputs": [],
   "source": [
    "import pandas as pd\n",
    "from sklearn.preprocessing import StandardScaler\n",
    "from sklearn.model_selection import train_test_split\n",
    "\n",
    "import warnings\n",
    "warnings.filterwarnings(\"ignore\")\n",
    "\n",
    "# 导入数据\n",
    "data = pd.read_csv('data_all.csv')\n",
    "y = data['status']\n",
    "data.drop('status', axis = 1, inplace = True)\n",
    "X = data\n",
    "\n",
    "# 划分训练集测试集\n",
    "X_train, X_test, y_train, y_test = train_test_split(X, y, test_size=0.3,random_state=2018)\n",
    "\n",
    "# 特征归一化\n",
    "std = StandardScaler()\n",
    "X_train = std.fit_transform(X_train)\n",
    "X_test = std.transform(X_test)"
   ]
  },
  {
   "cell_type": "code",
   "execution_count": 2,
   "metadata": {
    "collapsed": true
   },
   "outputs": [],
   "source": [
    "# 性能评估\n",
    "from sklearn.metrics import accuracy_score, roc_auc_score\n",
    "\n",
    "def model_metrics(clf, X_train, X_test, y_train, y_test):\n",
    "    # 预测\n",
    "    y_train_pred = clf.predict(X_train)\n",
    "    y_test_pred = clf.predict(X_test)\n",
    "    \n",
    "    y_train_proba = clf.predict_proba(X_train)[:,1]\n",
    "    y_test_proba = clf.predict_proba(X_test)[:,1]\n",
    "    \n",
    "    # 准确率\n",
    "    print('[准确率]', end = ' ')\n",
    "    print('训练集：', '%.4f'%accuracy_score(y_train, y_train_pred), end = ' ')\n",
    "    print('测试集：', '%.4f'%accuracy_score(y_test, y_test_pred))\n",
    "    \n",
    "    # auc取值：用roc_auc_score或auc\n",
    "    print('[auc值]', end = ' ')\n",
    "    print('训练集：', '%.4f'%roc_auc_score(y_train, y_train_proba), end = ' ')\n",
    "    print('测试集：', '%.4f'%roc_auc_score(y_test, y_test_proba))"
   ]
  },
  {
   "cell_type": "markdown",
   "metadata": {},
   "source": [
    "## 模型选择与模型评估"
   ]
  },
  {
   "cell_type": "code",
   "execution_count": 3,
   "metadata": {
    "collapsed": true
   },
   "outputs": [],
   "source": [
    "from sklearn.model_selection import GridSearchCV\n",
    "from sklearn.linear_model import LogisticRegression\n",
    "from sklearn import svm\n",
    "from sklearn.tree import DecisionTreeClassifier\n",
    "from xgboost.sklearn import XGBClassifier\n",
    "from lightgbm.sklearn import LGBMClassifier\n",
    "from mlxtend.classifier import StackingClassifier"
   ]
  },
  {
   "cell_type": "markdown",
   "metadata": {},
   "source": [
    "### LR模型"
   ]
  },
  {
   "cell_type": "code",
   "execution_count": 5,
   "metadata": {},
   "outputs": [
    {
     "name": "stdout",
     "output_type": "stream",
     "text": [
      "最佳参数： {'C': 0.04, 'penalty': 'l1'}\n",
      "训练集的最佳分数： 0.7964618766902285\n",
      "测试集的最佳分数： 0.7830845148300002\n"
     ]
    }
   ],
   "source": [
    "lr = LogisticRegression(random_state = 2018)\n",
    "# param = {'C': [1e-3,0.01,0.1,1,10,100,1e3], 'penalty':['l1', 'l2']}\n",
    "param = {'C': [i/100 for i in range(1,21)], 'penalty':['l1', 'l2']}\n",
    "\n",
    "gsearch = GridSearchCV(lr, param_grid = param,scoring ='roc_auc', cv=5)\n",
    "gsearch.fit(X_train, y_train)\n",
    "\n",
    "print('最佳参数：',gsearch.best_params_)\n",
    "print('训练集的最佳分数：', gsearch.best_score_)\n",
    "print('测试集的最佳分数：', gsearch.score(X_test, y_test))"
   ]
  },
  {
   "cell_type": "code",
   "execution_count": 4,
   "metadata": {},
   "outputs": [
    {
     "name": "stdout",
     "output_type": "stream",
     "text": [
      "[准确率] 训练集： 0.8016 测试集： 0.7884\n",
      "[auc值] 训练集： 0.8080 测试集： 0.7831\n"
     ]
    }
   ],
   "source": [
    "lr = LogisticRegression(C = 0.04, penalty = 'l1',random_state = 2018)\n",
    "lr.fit(X_train, y_train)\n",
    "model_metrics(lr, X_train, X_test, y_train, y_test)"
   ]
  },
  {
   "cell_type": "markdown",
   "metadata": {},
   "source": [
    "### SVM模型"
   ]
  },
  {
   "cell_type": "code",
   "execution_count": 7,
   "metadata": {},
   "outputs": [
    {
     "name": "stdout",
     "output_type": "stream",
     "text": [
      "最佳参数： {'C': 0.01}\n",
      "训练集的最佳分数： 0.7950417081289969\n",
      "测试集的最佳分数： 0.7790418661909382\n"
     ]
    }
   ],
   "source": [
    "# 线性SVM\n",
    "svm_linear = svm.SVC(kernel = 'linear', probability=True, random_state = 2018)\n",
    "param = {'C':[0.01, 0.05, 0.1, 0.5, 1]}\n",
    "\n",
    "gsearch = GridSearchCV(svm_linear, param_grid = param,scoring ='roc_auc', cv=5)\n",
    "gsearch.fit(X_train, y_train)\n",
    "\n",
    "print('最佳参数：',gsearch.best_params_)\n",
    "print('训练集的最佳分数：', gsearch.best_score_)\n",
    "print('测试集的最佳分数：', gsearch.score(X_test, y_test))"
   ]
  },
  {
   "cell_type": "code",
   "execution_count": 5,
   "metadata": {},
   "outputs": [
    {
     "name": "stdout",
     "output_type": "stream",
     "text": [
      "[准确率] 训练集： 0.7992 测试集： 0.7765\n",
      "[auc值] 训练集： 0.8152 测试集： 0.7790\n"
     ]
    }
   ],
   "source": [
    "svm_linear = svm.SVC(C = 0.01, kernel = 'linear', probability=True,random_state = 2018)\n",
    "svm_linear.fit(X_train, y_train)\n",
    "model_metrics(svm_linear, X_train, X_test, y_train, y_test)"
   ]
  },
  {
   "cell_type": "code",
   "execution_count": 9,
   "metadata": {},
   "outputs": [
    {
     "name": "stdout",
     "output_type": "stream",
     "text": [
      "最佳参数： {'C': 0.01}\n",
      "训练集的最佳分数： 0.745558070524133\n",
      "测试集的最佳分数： 0.7346979228610476\n"
     ]
    }
   ],
   "source": [
    "# 多项式SVM\n",
    "svm_poly = svm.SVC(kernel = 'poly', probability=True,random_state = 2018)\n",
    "param = {'C':[0.01, 0.05, 0.1, 0.5, 1]}\n",
    "gsearch = GridSearchCV(svm_poly, param_grid = param,scoring ='roc_auc', cv=5)\n",
    "gsearch.fit(X_train, y_train)\n",
    "\n",
    "print('最佳参数：',gsearch.best_params_)\n",
    "print('训练集的最佳分数：', gsearch.best_score_)\n",
    "print('测试集的最佳分数：', gsearch.score(X_test, y_test))"
   ]
  },
  {
   "cell_type": "code",
   "execution_count": 6,
   "metadata": {},
   "outputs": [
    {
     "name": "stdout",
     "output_type": "stream",
     "text": [
      "[准确率] 训练集： 0.7568 测试集： 0.7505\n",
      "[auc值] 训练集： 0.8626 测试集： 0.7347\n"
     ]
    }
   ],
   "source": [
    "svm_poly =  svm.SVC(C = 0.01, kernel = 'poly', probability=True,random_state = 2018)\n",
    "svm_poly.fit(X_train, y_train)\n",
    "model_metrics(svm_poly, X_train, X_test, y_train, y_test)"
   ]
  },
  {
   "cell_type": "code",
   "execution_count": 11,
   "metadata": {},
   "outputs": [
    {
     "name": "stdout",
     "output_type": "stream",
     "text": [
      "最佳参数： {'C': 0.01, 'gamma': 0.01}\n",
      "训练集的最佳分数： 0.7462600497861079\n",
      "测试集的最佳分数： 0.7370583080341774\n"
     ]
    }
   ],
   "source": [
    "# 高斯SVM\n",
    "svm_rbf = svm.SVC(probability=True,random_state = 2018)\n",
    "param = {'gamma':[0.01, 0.05, 0.1, 0.5, 1, 5, 10], \n",
    "         'C':[0.01, 0.05, 0.1, 0.5, 1]}\n",
    "gsearch = GridSearchCV(svm_poly, param_grid = param,scoring ='roc_auc', cv=5)\n",
    "gsearch.fit(X_train, y_train)\n",
    "\n",
    "print('最佳参数：',gsearch.best_params_)\n",
    "print('训练集的最佳分数：', gsearch.best_score_)\n",
    "print('测试集的最佳分数：', gsearch.score(X_test, y_test))"
   ]
  },
  {
   "cell_type": "code",
   "execution_count": 7,
   "metadata": {},
   "outputs": [
    {
     "name": "stdout",
     "output_type": "stream",
     "text": [
      "[准确率] 训练集： 0.7493 测试集： 0.7484\n",
      "[auc值] 训练集： 0.8522 测试集： 0.7708\n"
     ]
    }
   ],
   "source": [
    "svm_rbf =  svm.SVC(gamma = 0.01, C =0.01 , probability=True,random_state = 2018)\n",
    "svm_rbf.fit(X_train, y_train)\n",
    "model_metrics(svm_rbf, X_train, X_test, y_train, y_test)"
   ]
  },
  {
   "cell_type": "code",
   "execution_count": 13,
   "metadata": {},
   "outputs": [
    {
     "name": "stdout",
     "output_type": "stream",
     "text": [
      "最佳参数： {'C': 0.05}\n",
      "训练集的最佳分数： 0.7778813338030846\n",
      "测试集的最佳分数： 0.7590059779036651\n"
     ]
    }
   ],
   "source": [
    "# sigmoid - SVM\n",
    "svm_sigmoid = svm.SVC(kernel = 'sigmoid',probability=True,random_state = 2018)\n",
    "param = {'C':[0.01, 0.05, 0.1, 0.5, 1]}\n",
    "gsearch = GridSearchCV(svm_sigmoid, param_grid = param,scoring ='roc_auc', cv=5)\n",
    "gsearch.fit(X_train, y_train)\n",
    "\n",
    "print('最佳参数：',gsearch.best_params_)\n",
    "print('训练集的最佳分数：', gsearch.best_score_)\n",
    "print('测试集的最佳分数：', gsearch.score(X_test, y_test))"
   ]
  },
  {
   "cell_type": "code",
   "execution_count": 8,
   "metadata": {},
   "outputs": [
    {
     "name": "stdout",
     "output_type": "stream",
     "text": [
      "[准确率] 训练集： 0.7647 测试集： 0.7617\n",
      "[auc值] 训练集： 0.7660 测试集： 0.7590\n"
     ]
    }
   ],
   "source": [
    "svm_sigmoid = svm.SVC(C = 0.05, kernel = 'sigmoid',probability=True,random_state = 2018)\n",
    "svm_sigmoid.fit(X_train, y_train)\n",
    "model_metrics(svm_sigmoid, X_train, X_test, y_train, y_test)"
   ]
  },
  {
   "cell_type": "markdown",
   "metadata": {},
   "source": [
    "### 决策树模型"
   ]
  },
  {
   "cell_type": "code",
   "execution_count": 19,
   "metadata": {},
   "outputs": [
    {
     "name": "stdout",
     "output_type": "stream",
     "text": [
      "[准确率] 训练集： 1.0000 测试集： 0.6854\n",
      "[auc值] 训练集： 1.0000 测试集： 0.5956\n"
     ]
    }
   ],
   "source": [
    "dt = DecisionTreeClassifier(random_state = 2018)\n",
    "dt.fit(X_train, y_train)\n",
    "model_metrics(dt, X_train, X_test, y_train, y_test)"
   ]
  },
  {
   "cell_type": "code",
   "execution_count": 35,
   "metadata": {},
   "outputs": [
    {
     "data": {
      "text/plain": [
       "({'max_depth': 9, 'min_samples_split': 100}, 0.7330286268284397)"
      ]
     },
     "execution_count": 35,
     "metadata": {},
     "output_type": "execute_result"
    }
   ],
   "source": [
    "param = {'max_depth':range(3,14,2), 'min_samples_split':range(100,801,200)}\n",
    "#param = {'min_samples_split':range(50,1000,100), 'min_samples_leaf':range(60,101,10)}\n",
    "#param = {'min_samples_split':range(100,401,10), 'min_samples_leaf':range(40,101,10)}\n",
    "#param = {'max_features':range(7,20,2)}\n",
    "#param = {'max_features':[18,19,20]}\n",
    "gsearch = GridSearchCV(DecisionTreeClassifier(max_depth=9,min_samples_split=100,min_samples_leaf=90, max_features=9, random_state = 2018),\n",
    "                       param_grid = param,scoring ='roc_auc', cv=5)\n",
    "\n",
    "gsearch.fit(X_train, y_train)\n",
    "# gsearch.grid_scores_, \n",
    "gsearch.best_params_, gsearch.best_score_"
   ]
  },
  {
   "cell_type": "code",
   "execution_count": 9,
   "metadata": {},
   "outputs": [
    {
     "name": "stdout",
     "output_type": "stream",
     "text": [
      "[准确率] 训练集： 0.7812 测试集： 0.7561\n",
      "[auc值] 训练集： 0.7721 测试集： 0.6946\n"
     ]
    }
   ],
   "source": [
    "dt = DecisionTreeClassifier(max_depth=9,min_samples_split=100,min_samples_leaf=90, max_features=9, random_state = 2018)\n",
    "dt.fit(X_train, y_train)\n",
    "model_metrics(dt, X_train, X_test, y_train, y_test)"
   ]
  },
  {
   "cell_type": "markdown",
   "metadata": {},
   "source": [
    "### XGBoost模型"
   ]
  },
  {
   "cell_type": "code",
   "execution_count": 6,
   "metadata": {},
   "outputs": [
    {
     "name": "stdout",
     "output_type": "stream",
     "text": [
      "[准确率] 训练集： 0.8539 测试集： 0.7842\n",
      "[auc值] 训练集： 0.9175 测试集： 0.7709\n"
     ]
    }
   ],
   "source": [
    "import warnings\n",
    "warnings.filterwarnings(\"ignore\")\n",
    "\n",
    "xgb0 = XGBClassifier(random_state =2018)\n",
    "xgb0.fit(X_train, y_train)\n",
    "\n",
    "model_metrics(xgb0, X_train, X_test, y_train, y_test)"
   ]
  },
  {
   "cell_type": "code",
   "execution_count": 31,
   "metadata": {
    "scrolled": true
   },
   "outputs": [
    {
     "data": {
      "text/plain": [
       "({'n_estimators': 60}, 0.8038327506772067)"
      ]
     },
     "execution_count": 31,
     "metadata": {},
     "output_type": "execute_result"
    }
   ],
   "source": [
    "param_test = {'n_estimators':range(20,200,20)}\n",
    "# param_test = {'n_estimators':range(40,81,10)}\n",
    "# param_test = {'max_depth':range(3,10,2), 'min_child_weight':range(1,12,2)}\n",
    "# param_test = {'max_depth':[2,3,4], 'min_child_weight':[10,11,12]}\n",
    "# param_test = {'gamma':[i/10 for i in range(6)]}\n",
    "# param_test = {'subsample':[i/10 for i in range(5,10)], 'colsample_bytree':[i/10 for i in range(5,10)]}\n",
    "# param_test = { 'subsample':[i/100 for i in range(60,81,5)], 'colsample_bytree':[i/100 for i in range(70,91,5)]}\n",
    "#param_test = {'reg_alpha':[1e-5, 1e-2, 0.1, 0, 1, 100]}\n",
    "# param_test = {'reg_lambda': [0.2, 0.4, 0.6, 0.8, 1]}\n",
    "# 上述循环调整, 然后降低学习速率\n",
    "\n",
    "gsearch = GridSearchCV(estimator = XGBClassifier(learning_rate =0.1, n_estimators=60, max_depth=3, \n",
    "                                                  min_child_weight=11, gamma=0, subsample=0.7, \n",
    "                                                  colsample_bytree=0.8, objective= 'binary:logistic', \n",
    "                                                  nthread=4,scale_pos_weight=1, random_state =2018), \n",
    "                        param_grid = param_test, scoring='roc_auc',n_jobs=4,iid=False, cv=5)\n",
    "\n",
    "gsearch.fit(X_train, y_train)\n",
    "#gsearch.grid_scores_, \n",
    "gsearch.best_params_, gsearch.best_score_"
   ]
  },
  {
   "cell_type": "code",
   "execution_count": 10,
   "metadata": {},
   "outputs": [
    {
     "name": "stdout",
     "output_type": "stream",
     "text": [
      "[准确率] 训练集： 0.8302 测试集： 0.7891\n",
      "[auc值] 训练集： 0.8710 测试集： 0.7780\n"
     ]
    }
   ],
   "source": [
    "xgb = XGBClassifier(learning_rate =0.1, n_estimators=60, max_depth=3, min_child_weight=11, \n",
    "                    gamma=0, subsample=0.7,colsample_bytree=0.8, objective= 'binary:logistic',\n",
    "                    nthread=4,scale_pos_weight=1, random_state =2018)\n",
    "xgb.fit(X_train, y_train)\n",
    "model_metrics(xgb, X_train, X_test, y_train, y_test)"
   ]
  },
  {
   "cell_type": "markdown",
   "metadata": {},
   "source": [
    "### LightGBM模型"
   ]
  },
  {
   "cell_type": "code",
   "execution_count": 38,
   "metadata": {},
   "outputs": [
    {
     "name": "stdout",
     "output_type": "stream",
     "text": [
      "[准确率] 训练集： 0.9958 测试集： 0.7701\n",
      "[auc值] 训练集： 1.0000 测试集： 0.7535\n"
     ]
    }
   ],
   "source": [
    "# 首先看一下默认参数的结果\n",
    "lgb0 = LGBMClassifier(random_state =2018)\n",
    "lgb0.fit(X_train, y_train)\n",
    "\n",
    "model_metrics(lgb0, X_train, X_test, y_train, y_test)"
   ]
  },
  {
   "cell_type": "code",
   "execution_count": 51,
   "metadata": {},
   "outputs": [
    {
     "data": {
      "text/plain": [
       "({'n_estimators': 60}, 0.8054852081797643)"
      ]
     },
     "execution_count": 51,
     "metadata": {},
     "output_type": "execute_result"
    }
   ],
   "source": [
    "param_test = {'n_estimators':range(20,200,20)}\n",
    "# param_test = {'n_estimators':range(30,51,10)}\n",
    "# param_test = {'max_depth':range(3,10,2), 'min_child_weight':range(1,12,2)}\n",
    "# param_test = {'max_depth':[2,3,4], 'min_child_weight':[6,7,8]}\n",
    "# param_test = {'gamma':[i/10 for i in range(6)]}\n",
    "# param_test = {'subsample':[i/10 for i in range(5,10)], 'colsample_bytree':[i/10 for i in range(5,10)]}\n",
    "# param_test = { 'subsample':[i/100 for i in range(60,81,5)], 'colsample_bytree':[i/100 for i in range(70,91,5)]}\n",
    "#param_test = {'reg_alpha':[1e-5, 1e-2, 0.1, 0, 1, 100]}\n",
    "# param_test = {'reg_lambda': [0.2, 0.4, 0.6, 0.8, 1]}\n",
    "# 上述循环调整, 然后降低学习速率\n",
    "gsearch = GridSearchCV(estimator = LGBMClassifier(learning_rate =0.1, n_estimators=50, max_depth=3, \n",
    "                                                  min_child_weight=7, gamma=0, subsample=0.5, \n",
    "                                                  colsample_bytree=0.8, reg_alpha = 1e-5,\n",
    "                                                  nthread=4,scale_pos_weight=1, random_state =2018), \n",
    "                        param_grid = param_test, scoring='roc_auc',n_jobs=4,iid=False, cv=5)\n",
    "\n",
    "gsearch.fit(X_train, y_train)\n",
    "# gsearch.grid_scores_, \n",
    "gsearch.best_params_, gsearch.best_score_"
   ]
  },
  {
   "cell_type": "code",
   "execution_count": 11,
   "metadata": {},
   "outputs": [
    {
     "name": "stdout",
     "output_type": "stream",
     "text": [
      "[准确率] 训练集： 0.8269 测试集： 0.7877\n",
      "[auc值] 训练集： 0.8741 测试集： 0.7746\n"
     ]
    }
   ],
   "source": [
    "lgb = LGBMClassifier(learning_rate =0.1, n_estimators=50, max_depth=3, min_child_weight=7, \n",
    "                    gamma=0, subsample=0.5, colsample_bytree=0.8, reg_alpha=1e-5, \n",
    "                    nthread=4,scale_pos_weight=1,random_state =2018)\n",
    "lgb.fit(X_train, y_train)\n",
    "model_metrics(lgb, X_train, X_test, y_train, y_test)"
   ]
  },
  {
   "cell_type": "markdown",
   "metadata": {},
   "source": [
    "### 最终模型"
   ]
  },
  {
   "cell_type": "markdown",
   "metadata": {},
   "source": [
    "1.在融合的时候需要对模型进行筛选\n",
    "\n",
    "2.StackingClassifier的参数设置\n",
    "\n",
    ">如果average_probas=True，则对分类器的结果求平均，得到：p=[0.25,0.45,0.35]\n",
    "\n",
    ">如果average_probas=False，则分类器的所有结果都保留作为新的特征：p=[0.2,0.5,0.3,0.3,0.4,0.4]"
   ]
  },
  {
   "cell_type": "markdown",
   "metadata": {},
   "source": [
    "average_probas尝试True后, 效果更好。其次, 决策树和svm_poly单模型效果并不好, 尝试去掉两者后再Stacking"
   ]
  },
  {
   "cell_type": "code",
   "execution_count": 4,
   "metadata": {
    "collapsed": true
   },
   "outputs": [],
   "source": [
    "lr = LogisticRegression(C = 0.04, penalty = 'l1',random_state = 2018)\n",
    "svm_linear =svm.SVC(C = 0.01, kernel = 'linear', probability=True,random_state = 2018)\n",
    "svm_poly =  svm.SVC(C = 0.01, kernel = 'poly', probability=True,random_state = 2018)\n",
    "svm_rbf =  svm.SVC(gamma = 0.01, C =0.01 , probability=True,random_state = 2018)\n",
    "svm_sigmoid =  svm.SVC(C = 0.01, kernel = 'sigmoid',probability=True,random_state = 2018)\n",
    "dt = DecisionTreeClassifier(max_depth=9,min_samples_split=100,min_samples_leaf=90, max_features=9, \n",
    "                            random_state = 2018)\n",
    "xgb = XGBClassifier(learning_rate =0.1, n_estimators=60, max_depth=3, min_child_weight=11, \n",
    "                    gamma=0, subsample=0.7,colsample_bytree=0.8, objective= 'binary:logistic',\n",
    "                    nthread=4,scale_pos_weight=1, random_state =2018)\n",
    "lgb = LGBMClassifier(learning_rate =0.1, n_estimators=50, max_depth=3, min_child_weight=7, \n",
    "                    gamma=0, subsample=0.5, colsample_bytree=0.8, reg_alpha=1e-5, \n",
    "                    nthread=4,scale_pos_weight=1,random_state =2018)"
   ]
  },
  {
   "cell_type": "code",
   "execution_count": 5,
   "metadata": {
    "collapsed": true
   },
   "outputs": [],
   "source": [
    "sclf = StackingClassifier(classifiers=[lr, svm_linear, svm_rbf, xgb, lgb], \n",
    "                            meta_classifier=lr, use_probas=True,average_probas=True)"
   ]
  },
  {
   "cell_type": "code",
   "execution_count": 6,
   "metadata": {},
   "outputs": [
    {
     "name": "stdout",
     "output_type": "stream",
     "text": [
      "[准确率] 训练集： 0.8161 测试集： 0.7821\n",
      "[auc值] 训练集： 0.8556 测试集： 0.7861\n"
     ]
    }
   ],
   "source": [
    "sclf.fit(X_train, y_train.values)\n",
    "model_metrics(sclf, X_train, X_test, y_train, y_test)"
   ]
  },
  {
   "cell_type": "markdown",
   "metadata": {},
   "source": [
    "Stacking调参\n",
    "\n",
    "https://www.jianshu.com/p/48d1962679f5"
   ]
  },
  {
   "cell_type": "markdown",
   "metadata": {},
   "source": [
    "# 结果对比"
   ]
  },
  {
   "cell_type": "markdown",
   "metadata": {},
   "source": [
    "|模型|参数|auc值|\n",
    "|:---|:---|:---|\n",
    "|LR|C = 0.04, penalty = 'l1'|训练集： 0.8080 测试集： 0.7831|\n",
    "|svm_linear|C = 0.01|训练集： 0.8152 测试集： 0.7790|\n",
    "|svm_poly|C = 0.01|训练集： 0.8626 测试集： 0.7347|\n",
    "|svm_rbf|gamma = 0.01, C =0.01|训练集： 0.8522 测试集： 0.7708|\n",
    "|svm_sigmoid|C = 0.01|训练集： 0.7660 测试集： 0.7590|\n",
    "|决策树|max_depth=9,min_samples_split=100,min_samples_leaf=90, max_features=9|训练集： 0.7721 测试集： 0.6946|\n",
    "|XGBoost|learning_rate =0.1, n_estimators=60, max_depth=3, min_child_weight=11, gamma=0, subsample=0.7,colsample_bytree=0.8|训练集： 0.8710 测试集： 0.7780|\n",
    "|LightGBM|learning_rate =0.1, n_estimators=50, max_depth=3, min_child_weight=7, gamma=0, subsample=0.5, colsample_bytree=0.8|训练集： 0.8741 测试集： 0.7746|\n",
    "|Stacking|-|训练集： 0.8750 测试集： 0.7861|"
   ]
  },
  {
   "cell_type": "markdown",
   "metadata": {
    "collapsed": true
   },
   "source": [
    "> 测试集最好情况是LR模型0.7831。\n",
    "\n",
    "> 可以看到LR取最优值时, 是L1正则化。所以需要进一步特征选择。"
   ]
  }
 ],
 "metadata": {
  "kernelspec": {
   "display_name": "Python 3",
   "language": "python",
   "name": "python3"
  },
  "language_info": {
   "codemirror_mode": {
    "name": "ipython",
    "version": 3
   },
   "file_extension": ".py",
   "mimetype": "text/x-python",
   "name": "python",
   "nbconvert_exporter": "python",
   "pygments_lexer": "ipython3",
   "version": "3.7.1"
  },
  "toc": {
   "nav_menu": {},
   "number_sections": true,
   "sideBar": true,
   "skip_h1_title": false,
   "title_cell": "Table of Contents",
   "title_sidebar": "Contents",
   "toc_cell": true,
   "toc_position": {},
   "toc_section_display": true,
   "toc_window_display": false
  }
 },
 "nbformat": 4,
 "nbformat_minor": 2
}
